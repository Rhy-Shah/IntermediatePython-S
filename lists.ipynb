{
 "cells": [
  {
   "cell_type": "code",
   "execution_count": null,
   "metadata": {},
   "outputs": [],
   "source": [
    "A = [-2, -2, 4, 8, 9,4,11,23]\n",
    "B = 4\n",
    "C = []\n",
    "\n",
    "C.append(A.index(B))\n",
    "\n",
    "A = A[::-1]\n",
    "ind = A.index(B)\n",
    "og = len(A)-ind-1\n",
    "print(og)\n",
    "print(C)\n",
    "print(A)"
   ]
  },
  {
   "cell_type": "code",
   "execution_count": null,
   "metadata": {},
   "outputs": [],
   "source": [
    "w = -2  # <- Change this\n",
    "x = 2  # <- Change this\n",
    "y = 8  # <- Change this\n",
    "z = 1  # <- Change this\n",
    "\n",
    "lst = [1, 2, 3, 4, 5, 6, 7, 8, 9, 10]\n",
    "\n",
    "first_slice = lst[::z]\n",
    "second_slice = first_slice[:y]\n",
    "third_slice = second_slice[x:]\n",
    "last_slice = third_slice[::w]\n",
    "\n",
    "print(last_slice)\n"
   ]
  },
  {
   "cell_type": "code",
   "execution_count": null,
   "metadata": {},
   "outputs": [],
   "source": [
    "A = \"hello world\"\n",
    "ls = A.split()\n",
    "ls=ls[::-1]\n",
    "print(ls)\n",
    "str=\"\"\n",
    "for i in ls:\n",
    "    str += i+\" \"\n",
    "print(str)\n",
    "\n",
    "B = \"HELLO WORLD KEM CHO\"\n",
    "print(' '.join(B.strip().split()[::-1]))"
   ]
  },
  {
   "cell_type": "code",
   "execution_count": null,
   "metadata": {},
   "outputs": [],
   "source": [
    "A = [2, 0, 1]\n",
    "B = [1, 2, 0]\n",
    "C = [0,0,0]\n",
    "\n",
    "\n",
    "for i in range(len(A)):\n",
    "    C[i] = A.index(i)\n",
    "print(C)"
   ]
  },
  {
   "cell_type": "code",
   "execution_count": null,
   "metadata": {},
   "outputs": [],
   "source": [
    "a = [5,7,2,4,6,8]\n",
    "for i in range(len(a)):\n",
    "    for j in range(len(a)-1):\n",
    "        if a[i]<a[j]:\n",
    "            a[i],a[j] = a[j],a[i]\n",
    "print(a)"
   ]
  },
  {
   "cell_type": "code",
   "execution_count": null,
   "metadata": {},
   "outputs": [],
   "source": [
    "A = [[1, 2, 3],[4, 5, 6],[7, 8, 9]]\n",
    "B = 2 \n",
    "C = []\n",
    "for i in A:\n",
    "    row = []\n",
    "    for j in i:\n",
    "        row.append(j*B)\n",
    "    C.append(row)\n",
    "print(C)"
   ]
  }
 ],
 "metadata": {
  "kernelspec": {
   "display_name": "Python 3",
   "language": "python",
   "name": "python3"
  },
  "language_info": {
   "name": "python",
   "version": "3.10.9"
  },
  "orig_nbformat": 4,
  "vscode": {
   "interpreter": {
    "hash": "ed151676ba7cc20a52a8e3d85c1398e9c2097e3c955486c9e29439ec09d18f71"
   }
  }
 },
 "nbformat": 4,
 "nbformat_minor": 2
}
