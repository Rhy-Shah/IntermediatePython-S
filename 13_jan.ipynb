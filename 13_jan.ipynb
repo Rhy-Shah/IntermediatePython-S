{
 "cells": [
  {
   "cell_type": "code",
   "execution_count": 1,
   "metadata": {},
   "outputs": [
    {
     "name": "stdout",
     "output_type": "stream",
     "text": [
      "12\n"
     ]
    }
   ],
   "source": [
    "def fun(i,j):\n",
    "      if(i==0):\n",
    "         return j\n",
    "      else:\n",
    "         return fun(i-1,j+1)\n",
    "print(fun(4,8))"
   ]
  },
  {
   "cell_type": "code",
   "execution_count": 1,
   "metadata": {},
   "outputs": [
    {
     "name": "stdout",
     "output_type": "stream",
     "text": [
      "9\n"
     ]
    }
   ],
   "source": [
    "lis = [(0, 2), (1, 3), (2, 4)]\n",
    "result = sum (n for _, n in lis)\n",
    "print(result)\n"
   ]
  },
  {
   "cell_type": "code",
   "execution_count": 6,
   "metadata": {},
   "outputs": [
    {
     "name": "stdout",
     "output_type": "stream",
     "text": [
      "olleh\n"
     ]
    }
   ],
   "source": [
    "def reverse(s):\n",
    "  return s[-1:0:-1]\n",
    "\n",
    "def reverse1(s):\n",
    "  string = \"\"\n",
    "  for i in s:\n",
    "    string = i + string\n",
    "  return string\n",
    "\n",
    "def reverse2(s):\n",
    "     return s[::-1]\n",
    " \n",
    "print(reverse2('hello'))"
   ]
  },
  {
   "cell_type": "code",
   "execution_count": 9,
   "metadata": {},
   "outputs": [
    {
     "name": "stdout",
     "output_type": "stream",
     "text": [
      "{1: 'Strawberry', 2: 'Orange', 3: 'Banana'}\n"
     ]
    }
   ],
   "source": [
    "dict = {1:\"Apple\" , 2: \"Orange\", 3: \"Banana\"}\n",
    "dict[1] = \"Strawberry\"\n",
    "print(dict)"
   ]
  },
  {
   "cell_type": "code",
   "execution_count": 1,
   "metadata": {},
   "outputs": [
    {
     "name": "stdout",
     "output_type": "stream",
     "text": [
      "-7\n"
     ]
    }
   ],
   "source": [
    "def fun(i,j):\n",
    "  if(i==0):\n",
    "    return j\n",
    "  else:\n",
    "    return fun(j,i-5)\n",
    "\n",
    "print(fun(15,8))"
   ]
  },
  {
   "cell_type": "code",
   "execution_count": 2,
   "metadata": {},
   "outputs": [
    {
     "name": "stdout",
     "output_type": "stream",
     "text": [
      "*\n",
      "*\n",
      "*\n",
      "*\n",
      "*\n",
      "*\n",
      "*\n",
      "*\n",
      "#\n",
      "#\n",
      "#\n"
     ]
    }
   ],
   "source": [
    "def count_freq(x, y):\n",
    "  if(y!=1):\n",
    "    if(x!=1):\n",
    "      print(\"*\")\n",
    "      count_freq(x/2,y)\n",
    "    else:\n",
    "      print(\"#\")\n",
    "      y=y-1\n",
    "      count_freq(x,y)\n",
    "      \n",
    "count_freq(256,4)"
   ]
  },
  {
   "cell_type": "code",
   "execution_count": 1,
   "metadata": {},
   "outputs": [
    {
     "name": "stdout",
     "output_type": "stream",
     "text": [
      "4\n"
     ]
    }
   ],
   "source": [
    "def sentinelSearch(ar,target,n):\n",
    "  last = ar[n-1]\n",
    "  ar[n-1] = target\n",
    "  i = 0\n",
    "  while ar[i]!=target:\n",
    "    i+=1\n",
    "  ar[n-1] = last\n",
    "  if (i<n-1) or target==ar[n-1]:\n",
    "    return i\n",
    "  else:\n",
    "    return -1\n",
    "\n",
    "print(sentinelSearch([1,2,3,4,5],5,5))"
   ]
  },
  {
   "cell_type": "code",
   "execution_count": 4,
   "metadata": {},
   "outputs": [
    {
     "name": "stdout",
     "output_type": "stream",
     "text": [
      "False\n"
     ]
    }
   ],
   "source": [
    "def recur_search(key, values, lower, upper):\n",
    "  if (upper < lower):\n",
    "    return False\n",
    "\n",
    "  mid = (lower + upper) // 2\n",
    "\n",
    "  if (key == values[mid]):\n",
    "    return True;\n",
    " \n",
    "  elif (key < values[mid]):\n",
    "    recur_search(key, values, lower, mid - 1)\n",
    "\n",
    "  else: \n",
    "    recur_search(key, values, mid + 1, upper)\n",
    "\n",
    "  return False\n",
    "\n",
    "print(recur_search(5, [1, 2, 3, 4, 5], 0, 4))"
   ]
  },
  {
   "cell_type": "code",
   "execution_count": 5,
   "metadata": {},
   "outputs": [
    {
     "name": "stdout",
     "output_type": "stream",
     "text": [
      "[13, 14, 15]\n"
     ]
    }
   ],
   "source": [
    "arr = [[1,2,3],[10,11,12],[4,5,6],[13,14,15],[10,1,2]]\n",
    "\n",
    "print(max (arr, key=sum ) )"
   ]
  },
  {
   "cell_type": "code",
   "execution_count": 6,
   "metadata": {},
   "outputs": [
    {
     "name": "stdout",
     "output_type": "stream",
     "text": [
      "4 7 11 15 "
     ]
    }
   ],
   "source": [
    "arr = [[1, 2, 3, 4],\n",
    "       [4, 5, 6, 7],\n",
    "       [8, 9, 10, 11],\n",
    "       [12, 13, 14, 15]]\n",
    "\n",
    "for i in range(0, 4):\n",
    "  print(arr[i].pop(), end=\" \")"
   ]
  },
  {
   "cell_type": "code",
   "execution_count": 8,
   "metadata": {},
   "outputs": [
    {
     "name": "stdout",
     "output_type": "stream",
     "text": [
      "55\n"
     ]
    }
   ],
   "source": [
    "a = list(range(0,20))\n",
    "\n",
    "sum = 0\n",
    "i = 0\n",
    "while True:\n",
    "    if sum<=50:\n",
    "        sum+=  a[i]\n",
    "        i += 1\n",
    "    else:\n",
    "        break\n",
    "print(sum)\n"
   ]
  },
  {
   "cell_type": "code",
   "execution_count": 9,
   "metadata": {},
   "outputs": [
    {
     "name": "stdout",
     "output_type": "stream",
     "text": [
      "80\n"
     ]
    }
   ],
   "source": [
    "sampleDict = { \"class\":{ \"student\":{ \"name\":\"Mike\", \"marks\":{ \"physics\":70, \"history\":80 } } } }\n",
    "print(sampleDict['class']['student']['marks']['history'])"
   ]
  },
  {
   "cell_type": "code",
   "execution_count": 10,
   "metadata": {},
   "outputs": [
    {
     "data": {
      "text/plain": [
       "{1: 1, 2: 4, 3: 9, 4: 16, 5: 25}"
      ]
     },
     "execution_count": 10,
     "metadata": {},
     "output_type": "execute_result"
    }
   ],
   "source": [
    "{x : x**2 for x in range(1, 6)}"
   ]
  },
  {
   "cell_type": "code",
   "execution_count": 11,
   "metadata": {},
   "outputs": [
    {
     "name": "stdout",
     "output_type": "stream",
     "text": [
      "{1: 2, '1': 2}\n"
     ]
    }
   ],
   "source": [
    "abc = {}\n",
    "abc[1] = 1\n",
    "abc['1'] = 2\n",
    "abc[1] = abc[1] + 1\n",
    "print(abc)"
   ]
  },
  {
   "cell_type": "code",
   "execution_count": 13,
   "metadata": {},
   "outputs": [
    {
     "name": "stdout",
     "output_type": "stream",
     "text": [
      "{20, 30}\n"
     ]
    }
   ],
   "source": [
    "a={10,20,30}\n",
    "a.intersection_update({20,30,40,50})\n",
    "print(a)"
   ]
  },
  {
   "cell_type": "code",
   "execution_count": 14,
   "metadata": {},
   "outputs": [
    {
     "name": "stdout",
     "output_type": "stream",
     "text": [
      "True\n",
      "True\n"
     ]
    }
   ],
   "source": [
    "set1 = {10, 20, 30, 40, 50}\n",
    "set2 = {60, 70, 10, 30, 40, 80, 20, 50}\n",
    "\n",
    "print(set1.issubset(set2))\n",
    "print(set2.issuperset(set1))"
   ]
  },
  {
   "cell_type": "code",
   "execution_count": 10,
   "metadata": {},
   "outputs": [
    {
     "name": "stdout",
     "output_type": "stream",
     "text": [
      "rm3\n",
      "Ych PYcha charm3 PYcharm PYcharm\n"
     ]
    }
   ],
   "source": [
    "str1 = \"PYcharm3\"\n",
    "print(str1[-3:])\n",
    "print(str1[1:4], str1[:5], str1[-6:], str1[0:-1], str1[:-1])"
   ]
  },
  {
   "cell_type": "code",
   "execution_count": 14,
   "metadata": {},
   "outputs": [
    {
     "name": "stdout",
     "output_type": "stream",
     "text": [
      "{1, 2, 3, 4, 5}\n"
     ]
    }
   ],
   "source": [
    "sets = {3, 4, 5} \n",
    "sets = sets.union({1,2,3})\n",
    "print(sets)"
   ]
  },
  {
   "cell_type": "code",
   "execution_count": 4,
   "metadata": {},
   "outputs": [
    {
     "name": "stdout",
     "output_type": "stream",
     "text": [
      "3\n",
      "None\n"
     ]
    }
   ],
   "source": [
    "def countHi(s, count=0):\n",
    "    print(s.count(\"hi\"))\n",
    "    \n",
    "print(countHi(\"hihihi\"))"
   ]
  },
  {
   "cell_type": "code",
   "execution_count": 1,
   "metadata": {},
   "outputs": [
    {
     "name": "stdout",
     "output_type": "stream",
     "text": [
      "46\n"
     ]
    }
   ],
   "source": [
    "def fun(n):\n",
    "  if (n > 50):\n",
    "    return n - 5\n",
    "  return fun(fun(n+11))\n",
    "print(fun(45))\n"
   ]
  },
  {
   "cell_type": "code",
   "execution_count": 2,
   "metadata": {},
   "outputs": [
    {
     "name": "stdout",
     "output_type": "stream",
     "text": [
      "110"
     ]
    }
   ],
   "source": [
    "l = [ ]\n",
    "def convert(b):\n",
    "  if(b==0):\n",
    "    return l\n",
    "  digit=b%2\n",
    "  l.append(digit)\n",
    "  convert(b//2)\n",
    "\n",
    "convert(6)\n",
    "l.reverse()\n",
    "for i in l:\n",
    "  print(i,end=\"\")"
   ]
  },
  {
   "cell_type": "code",
   "execution_count": 3,
   "metadata": {},
   "outputs": [
    {
     "name": "stdout",
     "output_type": "stream",
     "text": [
      "-7\n"
     ]
    }
   ],
   "source": [
    "def fun(i,j):\n",
    "  if(i==0):\n",
    "    return j\n",
    "  else:\n",
    "    return fun(j,i-5)\n",
    "\n",
    "print(fun(15,8))"
   ]
  },
  {
   "cell_type": "code",
   "execution_count": 14,
   "metadata": {},
   "outputs": [
    {
     "name": "stdout",
     "output_type": "stream",
     "text": [
      "[[1, 4], [2, 3], [5]]\n"
     ]
    }
   ],
   "source": [
    "def combinationSum(A, B):\n",
    "    res = []\n",
    "    for i in range(len(A)):\n",
    "        if A[i] == B:\n",
    "            res.append([A[i]])\n",
    "        for j in range(i+1,len(A)-1):\n",
    "            if A[j] == B:\n",
    "                res.append([A[j]])\n",
    "            elif A[i]+A[j]==B:\n",
    "                res.append([A[i],A[j]])\n",
    "    return res\n",
    "\n",
    "print(combinationSum([1,2,3,4,5],5))"
   ]
  },
  {
   "cell_type": "code",
   "execution_count": 18,
   "metadata": {},
   "outputs": [
    {
     "name": "stdout",
     "output_type": "stream",
     "text": [
      "[15, 31, 47, 63, 79, 95]\n"
     ]
    }
   ],
   "source": [
    "res = list(range(31,96,32))\n",
    "print(res)\n",
    "\n"
   ]
  },
  {
   "cell_type": "code",
   "execution_count": 1,
   "metadata": {},
   "outputs": [
    {
     "name": "stdout",
     "output_type": "stream",
     "text": [
      "1 2 3 4 5\n",
      "1 2 3 4 \n",
      "1 2 3 \n",
      "1 2 \n",
      "1 \n"
     ]
    }
   ],
   "source": [
    "n = 5\n",
    "for i in range(n,0,-1):\n",
    "    for j in range(1,i+1):\n",
    "        if j==n:\n",
    "            print(j,end=\"\")\n",
    "        else:\n",
    "            print(j,end=\" \")\n",
    "    print()"
   ]
  },
  {
   "cell_type": "code",
   "execution_count": 8,
   "metadata": {},
   "outputs": [
    {
     "name": "stdout",
     "output_type": "stream",
     "text": [
      "['Apple', 'Berry', 'Cherry', 'Papaya']\n",
      "['Guava', 'Berry', 'Cherry', 'Papaya']\n",
      "['Guava', 'Berry', 'Cherry', 'Papaya']\n",
      "['Apple', 'Kiwi', 'Cherry', 'Papaya']\n",
      "22 Apple\n",
      "['Guava', 'Berry', 'Cherry', 'Papaya'] ['Guava', 'Berry', 'Cherry', 'Papaya'] ['Apple', 'Kiwi', 'Cherry', 'Papaya']\n"
     ]
    }
   ],
   "source": [
    "list1 = ['Apple', 'Berry', 'Cherry', 'Papaya']\n",
    "list2 = list1\n",
    "list3 = list1[:]\n",
    "print(list1)\n",
    "\n",
    "list2[0] = 'Guava'\n",
    "list3[1] = 'Kiwi'\n",
    "print(list1)\n",
    "print(list2)\n",
    "print(list3)\n",
    "\n",
    "total = 0\n",
    "for ls in (list1, list2, list3):\n",
    "  if ls[0] == 'Guava':\n",
    "    total += 1\n",
    "\n",
    "  if ls[1] == 'Kiwi':\n",
    "    total += 20\n",
    "\n",
    "print(total, list3[0])\n",
    "print(list1,list2,list3)"
   ]
  },
  {
   "cell_type": "code",
   "execution_count": 3,
   "metadata": {},
   "outputs": [
    {
     "name": "stdout",
     "output_type": "stream",
     "text": [
      "[(2, 3), (1, 2), (5, 6)]\n",
      "[(2, 3), (1, 2), (5, 6)]\n",
      "[(1, 2), (2, 3), (5, 6)]\n"
     ]
    }
   ],
   "source": [
    "arr = [(1,2),(2,3),(2,3),(1,2),(5,6)]\n",
    "print([item for item in set (tuple(i) for i in arr )])\n",
    "print(list (set ( [ i for i in arr ])))\n",
    "print([ (a,b) for i, [a,b] in enumerate(arr) if not any ((d==b and a==c) for c, d in arr[ : i])])"
   ]
  },
  {
   "cell_type": "code",
   "execution_count": 6,
   "metadata": {},
   "outputs": [
    {
     "data": {
      "text/plain": [
       "['No Entry for you', 'You can Enter', 'You can Enter', 'No Entry for you']"
      ]
     },
     "execution_count": 6,
     "metadata": {},
     "output_type": "execute_result"
    }
   ],
   "source": [
    "ids = ['M2004Sam', 'F2001Riya', 'M1998Ani', 'F2005Diya']\n",
    "def club_entry(ids):\n",
    "  age_list = [2022 - int(string[1:5]) for string in ids]\n",
    "  entry = []\n",
    "  for i in age_list:         \n",
    "    if i>18:             #blank2                \n",
    "      entry.append('You can Enter')\n",
    "    else:\n",
    "      entry.append('No Entry for you')\n",
    "  return entry\n",
    "\n",
    "club_entry(ids = ['M2004Sam', 'F2001Riya', 'M1998Ani', 'F2005Diya'])"
   ]
  },
  {
   "cell_type": "code",
   "execution_count": 10,
   "metadata": {},
   "outputs": [
    {
     "name": "stdout",
     "output_type": "stream",
     "text": [
      "1\n"
     ]
    }
   ],
   "source": [
    "List = [1, 2, 3, 1, 1, 2]\n",
    "dict= {}\n",
    "count, result = 0, \" \"\n",
    "for item in reversed(List):\n",
    "  dict[item] = dict.get(item,0) + 1\n",
    "  if dict[item] >= count:\n",
    "    count, result = dict[item] , item\n",
    "print(result)"
   ]
  },
  {
   "cell_type": "code",
   "execution_count": 12,
   "metadata": {},
   "outputs": [
    {
     "name": "stdout",
     "output_type": "stream",
     "text": [
      "Sweet_Corn_Soup\n",
      "Cream_of_Tomato_Soup\n",
      "Bacon_and_Cheese\n",
      "Honey_Mustard\n",
      "Hot_Coffee\n",
      "Cold_Coffee\n",
      "Egg_Sandwiches\n",
      "Tacos\n"
     ]
    }
   ],
   "source": [
    "Menu = [['Sweet_Corn_Soup', 300.0], ['Cream_of_Tomato_Soup', 100.0], ['Bacon_and_Cheese', 150.0], ['Honey_Mustard', 230.0], ['Hot_Coffee', 50.0], ['Cold_Coffee', 50.0], ['Egg_Sandwiches', 130.0], ['Tacos', 400.0]]\n",
    "for i,key in enumerate(Menu):\n",
    "    print(key[0])"
   ]
  },
  {
   "cell_type": "code",
   "execution_count": 9,
   "metadata": {},
   "outputs": [
    {
     "name": "stdout",
     "output_type": "stream",
     "text": [
      "[10, 20, 30, 40, 50]\n"
     ]
    }
   ],
   "source": [
    "arr =[10,[40,20],30,50]\n",
    "res = []\n",
    "for i in arr:\n",
    "    if isinstance(i,list):\n",
    "        for j in i:\n",
    "            res.append(j)\n",
    "    else:\n",
    "        res.append(i)\n",
    "\n",
    "res.sort()\n",
    "print(res)"
   ]
  },
  {
   "cell_type": "code",
   "execution_count": 5,
   "metadata": {},
   "outputs": [
    {
     "name": "stdout",
     "output_type": "stream",
     "text": [
      "[[1], [2], [3]]\n"
     ]
    }
   ],
   "source": [
    "A = [1, 2, 3]\n",
    "res = [[i] for i in A]\n",
    "\n",
    "print(res)"
   ]
  }
 ],
 "metadata": {
  "kernelspec": {
   "display_name": "Python 3",
   "language": "python",
   "name": "python3"
  },
  "language_info": {
   "codemirror_mode": {
    "name": "ipython",
    "version": 3
   },
   "file_extension": ".py",
   "mimetype": "text/x-python",
   "name": "python",
   "nbconvert_exporter": "python",
   "pygments_lexer": "ipython3",
   "version": "3.10.9"
  },
  "orig_nbformat": 4,
  "vscode": {
   "interpreter": {
    "hash": "ed151676ba7cc20a52a8e3d85c1398e9c2097e3c955486c9e29439ec09d18f71"
   }
  }
 },
 "nbformat": 4,
 "nbformat_minor": 2
}
