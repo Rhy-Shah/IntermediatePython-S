{
 "cells": [
  {
   "cell_type": "code",
   "execution_count": null,
   "metadata": {},
   "outputs": [],
   "source": [
    "#1748\n",
    "sum=0\n",
    "nums = [1,2,3,2]\n",
    "for i in nums:\n",
    "    if nums.count(i) == 1:\n",
    "        sum+=i\n",
    "print(sum)\n"
   ]
  },
  {
   "cell_type": "code",
   "execution_count": 23,
   "metadata": {},
   "outputs": [
    {
     "name": "stdout",
     "output_type": "stream",
     "text": [
      "This1 is2 a3 sentence4\n"
     ]
    }
   ],
   "source": [
    "s = \"is2 sentence4 This1 a3\"\n",
    "t = [None]*len(s.split(' '))\n",
    "res = \" \"\n",
    "for i in s.split(' '):\n",
    "    t[int(i[-1])-1] = i\n",
    "    \n",
    "print(' '.join(map(str, t)))\n",
    "\n"
   ]
  },
  {
   "cell_type": "code",
   "execution_count": 4,
   "metadata": {},
   "outputs": [
    {
     "ename": "TypeError",
     "evalue": "unsupported operand type(s) for -: 'str' and 'str'",
     "output_type": "error",
     "traceback": [
      "\u001b[1;31m---------------------------------------------------------------------------\u001b[0m",
      "\u001b[1;31mTypeError\u001b[0m                                 Traceback (most recent call last)",
      "Cell \u001b[1;32mIn[4], line 6\u001b[0m\n\u001b[0;32m      3\u001b[0m ss \u001b[39m=\u001b[39m \u001b[39mset\u001b[39m(s)\n\u001b[0;32m      4\u001b[0m tt \u001b[39m=\u001b[39m \u001b[39mset\u001b[39m(t)\n\u001b[1;32m----> 6\u001b[0m \u001b[39mprint\u001b[39m(t\u001b[39m-\u001b[39;49ms)\n",
      "\u001b[1;31mTypeError\u001b[0m: unsupported operand type(s) for -: 'str' and 'str'"
     ]
    }
   ],
   "source": [
    "s = \"a\"\n",
    "t = \"y\"\n",
    "\n",
    "\n",
    "print(t-s)"
   ]
  },
  {
   "cell_type": "code",
   "execution_count": null,
   "metadata": {},
   "outputs": [],
   "source": [
    "nums = [9,6,4,2,3,5,7,0,1]\n",
    "print(sum(nums))\n",
    "\n",
    "print(len(nums)+1)\n",
    "print(list(range(len(nums)+1)))\n"
   ]
  },
  {
   "cell_type": "code",
   "execution_count": null,
   "metadata": {},
   "outputs": [],
   "source": [
    "nums1 = [1,2,2,1]\n",
    "nums2 = [2]\n",
    "[i for i in set(nums1) if i in nums2]\n",
    "        "
   ]
  },
  {
   "cell_type": "code",
   "execution_count": null,
   "metadata": {},
   "outputs": [],
   "source": [
    "d = '.'\n",
    "print(d)"
   ]
  },
  {
   "cell_type": "code",
   "execution_count": null,
   "metadata": {},
   "outputs": [],
   "source": [
    "num = 16\n",
    "res = list(range(1,num//2+1))\n",
    "print(res)\n",
    "[True if i*i==num else False for i in res]"
   ]
  },
  {
   "cell_type": "code",
   "execution_count": 19,
   "metadata": {},
   "outputs": [
    {
     "name": "stdout",
     "output_type": "stream",
     "text": [
      "7\n",
      "6\n"
     ]
    }
   ],
   "source": [
    "arr= [\"c\",\"f\",\"j\",\"k\",\"l\",\"u\",\"m\",\"h\",\"t\"]\n",
    "arr.sort()\n",
    "target = \"n\"\n",
    "lo = 0\n",
    "hi = len(arr)-1\n",
    "\n",
    "while lo<=hi:\n",
    "    mid = lo+(hi-lo)//2\n",
    "    if arr[mid]==target:\n",
    "        print(mid)\n",
    "        break\n",
    "    elif arr[mid]<target:\n",
    "        lo = mid+1\n",
    "    else: hi = mid-1\n",
    "print(lo)\n",
    "print(hi)"
   ]
  },
  {
   "cell_type": "code",
   "execution_count": 9,
   "metadata": {},
   "outputs": [
    {
     "name": "stdout",
     "output_type": "stream",
     "text": [
      "4 6\n"
     ]
    }
   ],
   "source": [
    "a = ['a', 'aa', 'aab', 'b', 'bb', 'bba', 'bbb']\n",
    "b = 'bb'\n",
    "res = []\n",
    "flag = False\n",
    "for i in range(len(a)):\n",
    "    if b in a[i]:\n",
    "        res.append(i)\n",
    "        flag = True\n",
    "print(res[0],res[-1])"
   ]
  },
  {
   "cell_type": "code",
   "execution_count": 4,
   "metadata": {},
   "outputs": [
    {
     "name": "stdout",
     "output_type": "stream",
     "text": [
      "[1, 2]\n"
     ]
    }
   ],
   "source": [
    "def merge(nums1,m, nums2,n):\n",
    "    i = 0\n",
    "    j = 0\n",
    "    res = []\n",
    "    while i<m and j<n:\n",
    "        if nums1[i] < nums2[j]:\n",
    "            res.append(nums1[i])\n",
    "            i += 1\n",
    "        else:\n",
    "            res.append(nums2[j])\n",
    "            j += 1\n",
    "    \n",
    "    if i<m:\n",
    "        res += nums1[i:]\n",
    "    \n",
    "    if j<n:\n",
    "        res += nums2[j:]\n",
    "\n",
    "    # print(nums1)\n",
    "    # print(res)\n",
    "    \n",
    "    for i in range(len(nums1)):\n",
    "        nums1[i] = res[i]\n",
    "    return nums1\n",
    "\n",
    "print(merge([2,0],1,[1],1))"
   ]
  }
 ],
 "metadata": {
  "kernelspec": {
   "display_name": "Python 3",
   "language": "python",
   "name": "python3"
  },
  "language_info": {
   "codemirror_mode": {
    "name": "ipython",
    "version": 3
   },
   "file_extension": ".py",
   "mimetype": "text/x-python",
   "name": "python",
   "nbconvert_exporter": "python",
   "pygments_lexer": "ipython3",
   "version": "3.10.9"
  },
  "orig_nbformat": 4,
  "vscode": {
   "interpreter": {
    "hash": "ed151676ba7cc20a52a8e3d85c1398e9c2097e3c955486c9e29439ec09d18f71"
   }
  }
 },
 "nbformat": 4,
 "nbformat_minor": 2
}
