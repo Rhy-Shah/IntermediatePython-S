{
 "cells": [
  {
   "cell_type": "code",
   "execution_count": 1,
   "metadata": {},
   "outputs": [],
   "source": [
    "path = 'california_housing_test.csv'\n",
    "res = []\n",
    "\n",
    "with open(path) as f:\n",
    "    a = f.readlines()\n",
    "    \n",
    "    for i in range(1,len(a)):\n",
    "        line = a[i].split(',')\n",
    "        res.append({'longitude':float(line[0]),\n",
    "                    'latitude':float(line[1]),\n",
    "                    'housing_median_age':round(float(line[2])),\n",
    "                    'total_rooms':round(float(line[3])),\n",
    "                    'total_bedrooms':round(float(line[4])),\n",
    "                    'population':round(float(line[5])),\n",
    "                    'households':round(float(line[6])),\n",
    "                    'median_income':float(line[7]),\n",
    "                    'median_house_value':round(float(line[8]))\n",
    "                    })\n",
    "        \n",
    "res = sorted(res,key = lambda x:x['median_house_value'])"
   ]
  },
  {
   "cell_type": "code",
   "execution_count": 2,
   "metadata": {},
   "outputs": [
    {
     "name": "stdout",
     "output_type": "stream",
     "text": [
      "Original List: [0, 1, 4, 9]\n",
      "Modified List: [0, 1, 4, 9]\n"
     ]
    }
   ],
   "source": [
    "def pure_func(List):\n",
    "    for i in range(len(List)):\n",
    "        List[i] = i**2\n",
    "    return List\n",
    "\n",
    "Original_List = [1, 2, 3, 4]\n",
    "Modified_List = pure_func(Original_List)\n",
    "\n",
    "print(\"Original List:\", Original_List)\n",
    "print(\"Modified List:\", Modified_List)\n"
   ]
  },
  {
   "cell_type": "code",
   "execution_count": 3,
   "metadata": {},
   "outputs": [
    {
     "name": "stdout",
     "output_type": "stream",
     "text": [
      "The average median income is : 3.81\n",
      "The average population is : 1402.8\n"
     ]
    }
   ],
   "source": [
    "from functools import reduce\n",
    "\n",
    "ami = 0\n",
    "ap = 0\n",
    "\n",
    "# for i in res:\n",
    "#     ami += i['median_income']\n",
    "#     ap += i['population']\n",
    "\n",
    "ami = reduce((lambda x,y : x+y),(i['median_income'] for i in res))\n",
    "ap = reduce((lambda x,y : x+y),(i['population'] for i in res))\n",
    "\n",
    "print(\"The average median income is :\",round(ami/3000,2))\n",
    "print(\"The average population is :\",round(ap/3000,2))"
   ]
  },
  {
   "cell_type": "code",
   "execution_count": 4,
   "metadata": {},
   "outputs": [
    {
     "name": "stdout",
     "output_type": "stream",
     "text": [
      "Minimum, Maximum Housing Age is: 1 and 52\n",
      "Minimum, Maximum Housing Value is: 22500 and 500001\n"
     ]
    }
   ],
   "source": [
    "min_ha = reduce((lambda x,y : x if x<y else y),(i['housing_median_age'] for i in res))\n",
    "max_ha = reduce((lambda x,y : x if x>y else y),(i['housing_median_age'] for i in res))\n",
    "\n",
    "min_hv = reduce((lambda x,y : x if x<y else y),(i['median_house_value'] for i in res))\n",
    "max_hv = reduce((lambda x,y : x if x>y else y),(i['median_house_value'] for i in res))\n",
    "\n",
    "print(\"Minimum, Maximum Housing Age is:\",min_ha,\"and\",max_ha)\n",
    "print(\"Minimum, Maximum Housing Value is:\",min_hv,\"and\",max_hv)"
   ]
  },
  {
   "cell_type": "code",
   "execution_count": 5,
   "metadata": {},
   "outputs": [
    {
     "name": "stdout",
     "output_type": "stream",
     "text": [
      "The avg rooms for houses in top 5 percentile is: 1609.97\n",
      "The avg rooms for houses in bottom 5 percentile is: 3160.18\n"
     ]
    }
   ],
   "source": [
    "k = int(0.05*3000)\n",
    "    \n",
    "artop5 = reduce((lambda x,y:x+y),(i['total_rooms'] for i in res[:k]))\n",
    "arbottom5 = reduce((lambda x,y:x+y),(i['total_rooms'] for i in res[-k:]))\n",
    "\n",
    "print(\"The avg rooms for houses in top 5 percentile is:\",round(artop5/k,2))\n",
    "print(\"The avg rooms for houses in bottom 5 percentile is:\",arbottom5/k)"
   ]
  },
  {
   "cell_type": "code",
   "execution_count": 6,
   "metadata": {},
   "outputs": [
    {
     "name": "stdout",
     "output_type": "stream",
     "text": [
      "200923\n"
     ]
    }
   ],
   "source": [
    "sum = 0\n",
    "for i in range(1000,2001):\n",
    "    for j in range(2,int(i**0.5)+1):\n",
    "        if i%j==0:\n",
    "            break\n",
    "    else:\n",
    "        sum += i\n",
    "print(sum)"
   ]
  }
 ],
 "metadata": {
  "kernelspec": {
   "display_name": "Python 3",
   "language": "python",
   "name": "python3"
  },
  "language_info": {
   "codemirror_mode": {
    "name": "ipython",
    "version": 3
   },
   "file_extension": ".py",
   "mimetype": "text/x-python",
   "name": "python",
   "nbconvert_exporter": "python",
   "pygments_lexer": "ipython3",
   "version": "3.10.9"
  },
  "orig_nbformat": 4,
  "vscode": {
   "interpreter": {
    "hash": "ed151676ba7cc20a52a8e3d85c1398e9c2097e3c955486c9e29439ec09d18f71"
   }
  }
 },
 "nbformat": 4,
 "nbformat_minor": 2
}
