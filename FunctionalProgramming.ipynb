{
 "cells": [
  {
   "cell_type": "code",
   "execution_count": 6,
   "metadata": {},
   "outputs": [
    {
     "name": "stdout",
     "output_type": "stream",
     "text": [
      "[1, 2, 3, 4, 5]\n"
     ]
    }
   ],
   "source": [
    "array = [ [1, [ [ 2 ] ], [ [ [ 3 ] ] ], [ [ 4 ], 5 ] ]]\n",
    "result = lambda x: sum(map(result, x), [ ] ) if isinstance(x, list) else [x]\n",
    "print(result(array))"
   ]
  },
  {
   "cell_type": "code",
   "execution_count": 7,
   "metadata": {},
   "outputs": [
    {
     "name": "stdout",
     "output_type": "stream",
     "text": [
      "[2, [2, 3, 2, 3], 8, 10]\n"
     ]
    }
   ],
   "source": [
    "a=[1,[2,3],4,5]\n",
    "result = lambda x: list(map(lambda y:2*y, x)) if isinstance(x,list) else lambda x:3*x\n",
    "print(result(a))"
   ]
  },
  {
   "cell_type": "code",
   "execution_count": 8,
   "metadata": {},
   "outputs": [
    {
     "name": "stdout",
     "output_type": "stream",
     "text": [
      "['samJohnson@iit.com', 'SAM@harvard.com']\n"
     ]
    }
   ],
   "source": [
    "ids=[\"Sam@gmail.com\", \"Ram@gmail.com\", \"Sam@gmail.com\", \"samJohnson@iit.com\", \"SAM@harvard.com\"]\n",
    "name=\"sam\"\n",
    "result = list(filter(lambda x : name.lower() in x or name.upper() in x, ids))\n",
    "print(result)\n"
   ]
  },
  {
   "cell_type": "code",
   "execution_count": 9,
   "metadata": {},
   "outputs": [
    {
     "name": "stdout",
     "output_type": "stream",
     "text": [
      "[]\n"
     ]
    }
   ],
   "source": [
    "array  = [1, 2, 3, 4, 5]\n",
    "def func1(x):\n",
    "    return x<0\n",
    "\n",
    "result=filter(func1, array)\n",
    "print(list(result))"
   ]
  },
  {
   "cell_type": "code",
   "execution_count": 10,
   "metadata": {},
   "outputs": [
    {
     "name": "stdout",
     "output_type": "stream",
     "text": [
      "4\n"
     ]
    }
   ],
   "source": [
    "import functools\n",
    "lists = [1,2,3,4]\n",
    "print(functools.reduce(lambda x,y : x if x > y else y ,lists))"
   ]
  },
  {
   "cell_type": "code",
   "execution_count": 11,
   "metadata": {},
   "outputs": [
    {
     "name": "stdout",
     "output_type": "stream",
     "text": [
      "['php', 'aaa']\n"
     ]
    }
   ],
   "source": [
    "arr = [\"php\", \"w3r\", \"python\", \"aaa\", \"java\"]\n",
    "\n",
    "print(list( filter( lambda x: (x ==\"\".join( reversed(x))), arr)))\n"
   ]
  },
  {
   "cell_type": "code",
   "execution_count": 12,
   "metadata": {},
   "outputs": [
    {
     "name": "stdout",
     "output_type": "stream",
     "text": [
      "[['a', 'b', 'c'], ['c', 'd', 'e'], ['d', 'e', 'f']]\n"
     ]
    }
   ],
   "source": [
    "sentence = \"abc cde def\"\n",
    "result = list(map(lambda x: list(x), sentence.split(\" \")))\n",
    "print(result)"
   ]
  },
  {
   "cell_type": "code",
   "execution_count": 13,
   "metadata": {},
   "outputs": [
    {
     "name": "stdout",
     "output_type": "stream",
     "text": [
      "[set(), {1}, {2}, {1, 2}, {3}, {1, 3}, {2, 3}, {1, 2, 3}]\n"
     ]
    }
   ],
   "source": [
    "from functools import reduce\n",
    "array = {1, 2, 3}\n",
    "result = lambda array: reduce(lambda P, x: P + [i | {x} for i in P], array , [set()]) \n",
    "\n",
    "print(result(array)) "
   ]
  }
 ],
 "metadata": {
  "kernelspec": {
   "display_name": "Python 3",
   "language": "python",
   "name": "python3"
  },
  "language_info": {
   "codemirror_mode": {
    "name": "ipython",
    "version": 3
   },
   "file_extension": ".py",
   "mimetype": "text/x-python",
   "name": "python",
   "nbconvert_exporter": "python",
   "pygments_lexer": "ipython3",
   "version": "3.10.9"
  },
  "orig_nbformat": 4
 },
 "nbformat": 4,
 "nbformat_minor": 2
}
