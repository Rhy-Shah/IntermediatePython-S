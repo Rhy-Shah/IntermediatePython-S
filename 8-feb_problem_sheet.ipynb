{
 "cells": [
  {
   "attachments": {},
   "cell_type": "markdown",
   "metadata": {
    "tags": []
   },
   "source": [
    "# BINARY SEARCH"
   ]
  },
  {
   "cell_type": "code",
   "execution_count": 6,
   "metadata": {},
   "outputs": [
    {
     "name": "stdout",
     "output_type": "stream",
     "text": [
      "2\n"
     ]
    }
   ],
   "source": [
    "#Normal Implementation - not a question\n",
    "def binary_search(arr,target):\n",
    "    l = 0\n",
    "    h = len(arr)\n",
    "    \n",
    "    while l<h:\n",
    "        mid = l+h>>1\n",
    "        if arr[mid]<target:\n",
    "            l = mid+1\n",
    "        else:\n",
    "            h = mid\n",
    "    return l\n",
    "\n",
    "\n",
    "arr = [[2,3,5],[7,8,9],[20,30,40]]\n",
    "\n",
    "target = 9\n",
    "\n",
    "print(binary_search(arr[1],target))"
   ]
  },
  {
   "attachments": {},
   "cell_type": "markdown",
   "metadata": {},
   "source": [
    "Q1. Recursive Binary Search"
   ]
  },
  {
   "cell_type": "code",
   "execution_count": 7,
   "metadata": {},
   "outputs": [
    {
     "name": "stdout",
     "output_type": "stream",
     "text": [
      "2\n"
     ]
    }
   ],
   "source": [
    "def rec_bs(arr,target,l,h):\n",
    "    if l>h:\n",
    "        return -1\n",
    "    else:\n",
    "        mid = l+h>>1\n",
    "        if arr[mid]==target:\n",
    "            return mid\n",
    "        elif arr[mid]<target:\n",
    "            return rec_bs(arr,target,mid+1,h)\n",
    "        else:\n",
    "            return rec_bs(arr,target,l,mid-1)\n",
    "\n",
    "\n",
    "arr = [[2,3,5],[7,8,9],[20,30,40]]\n",
    "\n",
    "target = 9\n",
    "\n",
    "print(rec_bs(arr[1],target,0,len(arr[1])-1))"
   ]
  },
  {
   "attachments": {},
   "cell_type": "markdown",
   "metadata": {},
   "source": [
    "Q2: Given a sorted array rotated by K elements, find value of K\n",
    "\n",
    "Input\n",
    "\n",
    "6,7,8,2,3,4,5\n",
    "\n",
    "5,7,9,10,1,2,3\n",
    "\n",
    "Output:\n",
    "2  as array is rotated by 2 indexes"
   ]
  },
  {
   "cell_type": "code",
   "execution_count": 8,
   "metadata": {},
   "outputs": [
    {
     "name": "stdout",
     "output_type": "stream",
     "text": [
      "3\n"
     ]
    }
   ],
   "source": [
    "a = 6,7,8,2,3,4,5\n",
    "b = 5,7,9,10,1,2,3\n",
    "\n",
    "def findK(arr):\n",
    "    return arr.index(max(arr))     #using max\n",
    "    return arr.index(min(arr))-1   #using min\n",
    "\n",
    "print(findK(b))"
   ]
  },
  {
   "attachments": {},
   "cell_type": "markdown",
   "metadata": {},
   "source": [
    "Q3. Find nearest large number to a target(Number just greater than target) using Binary Search"
   ]
  },
  {
   "cell_type": "code",
   "execution_count": 9,
   "metadata": {},
   "outputs": [
    {
     "name": "stdout",
     "output_type": "stream",
     "text": [
      "5\n"
     ]
    }
   ],
   "source": [
    "import bisect\n",
    "arr=[1,2,3,4,5,65,78,90,92,101,135]\n",
    "target = 5\n",
    "\n",
    "def greater_number(arr,target):\n",
    "    return arr[bisect.bisect_left(arr,target)]\n",
    "\n",
    "print(greater_number(arr,target))"
   ]
  },
  {
   "attachments": {},
   "cell_type": "markdown",
   "metadata": {},
   "source": [
    "Q4. Find nearest small number to a target(Number just smaller than target) using Binary Search4\n"
   ]
  },
  {
   "cell_type": "code",
   "execution_count": 10,
   "metadata": {},
   "outputs": [
    {
     "name": "stdout",
     "output_type": "stream",
     "text": [
      "5\n"
     ]
    }
   ],
   "source": [
    "import bisect\n",
    "arr=[1,2,3,4,5,65,78,90,92,101,135]\n",
    "target = 64\n",
    "\n",
    "def greater_number(arr,target):\n",
    "    return arr[bisect.bisect_left(arr,target+1)-1]\n",
    "\n",
    "print(greater_number(arr,target))"
   ]
  },
  {
   "attachments": {},
   "cell_type": "markdown",
   "metadata": {},
   "source": [
    "Q5. Apply Binary Search on a 2D Array/Matrix\n"
   ]
  },
  {
   "cell_type": "code",
   "execution_count": 11,
   "metadata": {},
   "outputs": [
    {
     "data": {
      "text/plain": [
       "(0, 2)"
      ]
     },
     "execution_count": 11,
     "metadata": {},
     "output_type": "execute_result"
    }
   ],
   "source": [
    "def bs_main(arr,target):\n",
    "    def rec_binary_search(arr,target,low,high):\n",
    "        if low>high:\n",
    "            return False\n",
    "        else:\n",
    "            mid = (low+high)//2\n",
    "            if arr[mid]==target:\n",
    "                return mid\n",
    "            elif arr[mid]<target:\n",
    "                return rec_binary_search(arr,target,mid+1,high)\n",
    "            else:\n",
    "                return rec_binary_search(arr,target,low,mid-1)\n",
    "    \n",
    "    l = 0\n",
    "    h = len(arr)-1\n",
    "    while l<=h:\n",
    "        mid= (l+h)//2\n",
    "        if target >= arr[mid][0] and target <= arr[mid][-1]:\n",
    "            return mid,rec_binary_search(arr[mid],target,0,len(arr[mid])-1)\n",
    "        elif target>arr[mid][0]:\n",
    "            l = mid+1\n",
    "        else:\n",
    "            h = mid-1\n",
    "    return False\n",
    "\n",
    "\n",
    "arr = [[1,2,3],[5,7,11],[12,15,20],[23,45,67]]\n",
    "target = 3\n",
    "bs_main(arr,target)"
   ]
  },
  {
   "attachments": {},
   "cell_type": "markdown",
   "metadata": {
    "tags": []
   },
   "source": [
    "# RECURSION"
   ]
  },
  {
   "attachments": {},
   "cell_type": "markdown",
   "metadata": {},
   "source": [
    "Q1: Logs and Powers\n",
    "\n",
    "You are given a number x.\n",
    "You are given another number n.\n",
    "You are required to calculate x raised to the power n.\n",
    "\n",
    "Sample Input\n",
    "\n",
    "2\n",
    "\n",
    "5\n",
    "\n",
    "\n",
    "Sample Output\n",
    "\n",
    "32"
   ]
  },
  {
   "cell_type": "code",
   "execution_count": 35,
   "metadata": {},
   "outputs": [
    {
     "name": "stdout",
     "output_type": "stream",
     "text": [
      "32\n"
     ]
    }
   ],
   "source": [
    "def logs_powers(x,n):\n",
    "    if n==1:\n",
    "        return x\n",
    "    val = logs_powers(x,n//2)\n",
    "    if n%2==0:\n",
    "        return val*val\n",
    "    return val*val*x\n",
    "\n",
    "print(logs_powers(2,5))"
   ]
  },
  {
   "attachments": {},
   "cell_type": "markdown",
   "metadata": {},
   "source": [
    "Q2: All Indices Of Array\n",
    "\n",
    "You are given a number n, representing the count of elements.\n",
    "\n",
    "You are given n numbers.\n",
    "\n",
    "You are given a number x.\n",
    "\n",
    "You are required to find the all indices at which x occurs in array a.\n",
    "\n",
    "Return an array of appropriate size which contains all indices at which x occurs in array a.\n",
    "\n",
    "Sample Input\n",
    "\n",
    "N = 6\n",
    "\n",
    "15 11 40 4 4 9\n",
    "\n",
    "x = 4\n",
    "\n",
    "Sample Output\n",
    "\n",
    "3 4"
   ]
  },
  {
   "cell_type": "code",
   "execution_count": 13,
   "metadata": {},
   "outputs": [
    {
     "name": "stdout",
     "output_type": "stream",
     "text": [
      "[3, 4]\n"
     ]
    }
   ],
   "source": [
    "# n = int(input())\n",
    "# arr = list(map(int,input().split()[:n]))\n",
    "# x = int(input())\n",
    "\n",
    "arr = [15,11,40,4,4,9]\n",
    "x = 4\n",
    "\n",
    "def indices(arr,x,i=0,res=[]):\n",
    "    if len(arr) == i:\n",
    "        return res\n",
    "    if arr[i] == x:\n",
    "        res.append(i)\n",
    "    return indices(arr,x,i+1,res)\n",
    "    \n",
    "    \n",
    "print(indices(arr,x))"
   ]
  },
  {
   "attachments": {},
   "cell_type": "markdown",
   "metadata": {},
   "source": [
    "Q3: Calculate Max and Min of Array using recursion. \n",
    "\n",
    "Sample Input\n",
    "\n",
    "N = 6\n",
    "\n",
    "15 11 40 4 4 9\n",
    "\n",
    "\n",
    "Sample Output\n",
    "\n",
    "max 40\n",
    "\n",
    "min 4\n"
   ]
  },
  {
   "cell_type": "code",
   "execution_count": 14,
   "metadata": {},
   "outputs": [
    {
     "name": "stdout",
     "output_type": "stream",
     "text": [
      "(2, 1)\n"
     ]
    }
   ],
   "source": [
    "arr = [1,2]\n",
    "def max_min(arr,i=0,max=arr[0],min=arr[0]):\n",
    "    if i == len(arr):\n",
    "        return max,min\n",
    "    else:\n",
    "        if arr[i]>=max:\n",
    "            return max_min(arr,i+1,arr[i],min)\n",
    "        elif arr[i] <= min:\n",
    "            return max_min(arr,i+1,max,arr[i])\n",
    "        return max_min(arr,i+1,max,min)\n",
    "        \n",
    "print(max_min(arr))"
   ]
  },
  {
   "attachments": {},
   "cell_type": "markdown",
   "metadata": {},
   "source": [
    "Q4: Words\n",
    "\n",
    "You are given a word (may have one character repeat more than once).\n",
    "\n",
    "You are required to generate and print all arrangements of these characters\n",
    "\n",
    "Sample Input\n",
    "\n",
    "aabb\n",
    "\n",
    "Sample Output\n",
    "\n",
    "aabb abab abba baab baba bbaa"
   ]
  },
  {
   "cell_type": "code",
   "execution_count": 15,
   "metadata": {},
   "outputs": [
    {
     "name": "stdout",
     "output_type": "stream",
     "text": [
      "aabb abab abba baab baba bbaa\n"
     ]
    }
   ],
   "source": [
    "s = \"aabb\"\n",
    "def words(s,curr=\"\",res=[]):\n",
    "    if len(curr)==4:\n",
    "        if curr not in res:\n",
    "            res.append(curr)\n",
    "    else:\n",
    "        words(s[1:],curr+s[0],res)\n",
    "        words(s[:-1],curr+s[-1],res)\n",
    "    return ' '.join(res)\n",
    "\n",
    "print(words(s))"
   ]
  },
  {
   "attachments": {},
   "cell_type": "markdown",
   "metadata": {
    "tags": []
   },
   "source": [
    " Q5: Coin Change 1\n",
    "\n",
    "You are given a number n, representing the count of coins.\n",
    "\n",
    "You are given n numbers, representing the denominations of n coins.\n",
    "\n",
    "You are given a number \"amt\".\n",
    "\n",
    "You are required to calculate and print the combinations of the n coins (non-duplicate) using which the amount \"amt\" can be paid.\n",
    "\n",
    "Sample Input\n",
    "\n",
    "5\n",
    "\n",
    "2 3 5 6 7\n",
    " \n",
    "12\n",
    "\n",
    "Sample Output\n",
    "\n",
    "2-3-7-.\n",
    "\n",
    "5-7-."
   ]
  },
  {
   "cell_type": "code",
   "execution_count": 16,
   "metadata": {},
   "outputs": [
    {
     "name": "stdout",
     "output_type": "stream",
     "text": [
      "2-3-7-\n",
      "5-7-\n"
     ]
    }
   ],
   "source": [
    "def maincoins1(arr,target):\n",
    "    res = []\n",
    "\n",
    "    def coins1(arr,target,curr=[]):\n",
    "        if sum(curr) >= target or len(arr)==0:\n",
    "            if sum(curr)==target and curr not in res:\n",
    "                res.append(curr)\n",
    "        else:\n",
    "            coins1(arr[1:],target,curr+[arr[0]])\n",
    "            coins1(arr[1:],target,curr)\n",
    "            \n",
    "        return res\n",
    "    \n",
    "    coins1(arr,target)\n",
    "    for i in res:\n",
    "        for j in i:\n",
    "            print(j,end=\"-\")\n",
    "        print()\n",
    "\n",
    "arr = [2,3,5,6,7]\n",
    "target = 12\n",
    "maincoins1(arr,target)"
   ]
  },
  {
   "attachments": {},
   "cell_type": "markdown",
   "metadata": {},
   "source": [
    "Q6:Coin Change 2\n",
    "\n",
    "You are given a number n, representing the count of coins.\n",
    "\n",
    "You are given n numbers, representing the denominations of n coins.\n",
    "\n",
    "You are given a number \"amt\".\n",
    "\n",
    "You are required to calculate and print the combinations of the n coins (same coin can be used again any number of times) using \n",
    "which the amount \"amt\" can be paid.\n",
    "\n",
    "Sample Input\n",
    "\n",
    "5\n",
    "\n",
    "2 3 5 6 7\n",
    " \n",
    "12\n",
    "\n",
    "Sample Output\n",
    "\n",
    "2-2-2-2-2-2-.\n",
    "\n",
    "2-2-2-3-3-.\n",
    "\n",
    "2-2-2-6-.\n",
    "\n",
    "2-2-3-5-.\n",
    "\n",
    "2-3-7-.\n",
    "\n",
    "2-5-5-.\n",
    "\n",
    "3-3-3-3-.\n",
    "\n",
    "3-3-6-.\n",
    "\n",
    "5-7-.\n",
    "\n",
    "6-6-.\n"
   ]
  },
  {
   "cell_type": "code",
   "execution_count": 17,
   "metadata": {},
   "outputs": [
    {
     "name": "stdout",
     "output_type": "stream",
     "text": [
      "2-2-2-2-2-2-\n",
      "2-2-2-3-3-\n",
      "2-2-2-6-\n",
      "2-2-3-5-\n",
      "2-3-7-\n",
      "2-5-5-\n",
      "3-3-3-3-\n",
      "3-3-6-\n",
      "5-7-\n",
      "6-6-\n"
     ]
    }
   ],
   "source": [
    "def maincoins2(arr,target):\n",
    "    res = []\n",
    "\n",
    "    def coins2(arr,target,curr=[]):\n",
    "        if sum(curr) >= target or len(arr)==0:\n",
    "            if sum(curr)==target and curr not in res:\n",
    "                res.append(curr)\n",
    "        else:\n",
    "            coins2(arr,target,curr+[arr[0]])\n",
    "            coins2(arr[1:],target,curr)\n",
    "            \n",
    "        return res\n",
    "    \n",
    "    coins2(arr,target)\n",
    "    for i in res:\n",
    "        for j in i:\n",
    "            print(j,end=\"-\")\n",
    "        print()\n",
    "\n",
    "arr = [2,3,5,6,7]\n",
    "target = 12\n",
    "maincoins2(arr,target)"
   ]
  },
  {
   "attachments": {},
   "cell_type": "markdown",
   "metadata": {
    "tags": []
   },
   "source": [
    "# HASHING\n"
   ]
  },
  {
   "attachments": {},
   "cell_type": "markdown",
   "metadata": {},
   "source": [
    "Q1: Highest Frequency Character\n",
    "\n",
    "You are given a string str.\n",
    "You are required to find the character with maximum frequency.\n",
    "\n",
    "Sample Input\n",
    "\n",
    "zmszeqxllzvheqwrofgcuntypejcxovtaqbnqyqlmrwitc\n",
    "\n",
    "\n",
    "Sample Output\n",
    "\n",
    "q\n"
   ]
  },
  {
   "cell_type": "code",
   "execution_count": 18,
   "metadata": {},
   "outputs": [
    {
     "name": "stdout",
     "output_type": "stream",
     "text": [
      "q\n"
     ]
    }
   ],
   "source": [
    "def max_str(s):\n",
    "    res = dict()\n",
    "    for i in s:\n",
    "        if i in res:\n",
    "            res[i] += 1\n",
    "        else:\n",
    "            res[i] = 1\n",
    "        \n",
    "    return max(res, key= lambda x: res[x])\n",
    "\n",
    "print(max_str(\"zmszeqxllzvheqwrofgcuntypejcxovtaqbnqyqlmrwitc\"))"
   ]
  },
  {
   "attachments": {},
   "cell_type": "markdown",
   "metadata": {},
   "source": [
    "Q2: Get Common Elements\n",
    "\n",
    "You are given a number n1, representing the size of array a1.\n",
    "\n",
    "You are given n1 numbers, representing elements of array a1.\n",
    "\n",
    "You are given a number n2, representing the size of array a2.\n",
    "\n",
    "You are given n2 numbers, representing elements of array a2.\n",
    "\n",
    "You are required to print all elements of a2 which are also present in a1 (in order of their occurence in a2). Make sure to not print duplicates (a2 may have same value present many times).\n",
    "\n",
    "Sample Input:\n",
    "\n",
    "9\n",
    "\n",
    "5 5 9 8 5 5 8 0 3\n",
    "\n",
    "18\n",
    "\n",
    "9 7 1 0 3 6 5 9 1 1 8 0 2 4 2 9 1 5\n",
    "\n",
    "Sample Output\n",
    "\n",
    "9 0 3 5 8"
   ]
  },
  {
   "cell_type": "code",
   "execution_count": 19,
   "metadata": {},
   "outputs": [
    {
     "name": "stdout",
     "output_type": "stream",
     "text": [
      "9 0 3 5 8 "
     ]
    }
   ],
   "source": [
    "a = [5,5,9,8,5,5,8,0,3]\n",
    "b = [9,7,1,0,3,6,5,9,1,1,8,0,2,4,2,9,1,5]\n",
    "\n",
    "def common(a,b,res=[]):\n",
    "    if len(b)>len(a):\n",
    "        for i in b:\n",
    "            if i in a and i not in res:\n",
    "                res.append(i)\n",
    "                print(i,end=\" \")\n",
    "    else:\n",
    "        for i in a:\n",
    "            if i in b and i not in res:\n",
    "                res.append(i)\n",
    "                print(i,end=\" \")\n",
    "\n",
    "common(a,b)"
   ]
  },
  {
   "attachments": {},
   "cell_type": "markdown",
   "metadata": {},
   "source": [
    "Q3: K Largest Element\n",
    "\n",
    "You are given a number n, representing the size of array a.\n",
    "\n",
    "You are given n numbers, representing elements of array a.\n",
    "\n",
    "You are given a number k.\n",
    "\n",
    "You are required to find and print the k largest elements of array in increasing order.\n"
   ]
  },
  {
   "cell_type": "code",
   "execution_count": 20,
   "metadata": {},
   "outputs": [
    {
     "name": "stdout",
     "output_type": "stream",
     "text": [
      "[84, 98, 98, 99]\n"
     ]
    }
   ],
   "source": [
    "arr = [13,12,62,22,15,37,98,11,37,98,67,31,84,99,4]\n",
    "k = 4\n",
    "\n",
    "arr.sort()\n",
    "print(arr[-k:])"
   ]
  },
  {
   "attachments": {},
   "cell_type": "markdown",
   "metadata": {},
   "source": [
    "Q4: Hashing+Recursion: Print Keys\n",
    "\n",
    "You are given a string str. The string str will contains numbers only, where each number stands for a key pressed on a mobile phone.\n",
    "\n",
    "The following list is the key to characters map 0 -> .; 1 -> abc 2 -> def 3 -> ghi 4 -> jkl 5 -> mno 6 -> pqrs 7 -> tu 8 -> vwx 9 -> yz\n",
    "\n",
    "Sample Input\n",
    "78\n",
    "\n",
    "Sample Output\n",
    "\n",
    "tv tw tx uv uw ux"
   ]
  },
  {
   "cell_type": "code",
   "execution_count": 3,
   "metadata": {},
   "outputs": [
    {
     "name": "stdout",
     "output_type": "stream",
     "text": [
      "gy gz hy hz iy iz\n"
     ]
    }
   ],
   "source": [
    "def mainnumpad(s):\n",
    "    nump = {0:'.;',1:'abc',2:'def',3:'ghi',4:'jkl',5:'mno',6:'pqrs',7:'tu',8:'vwx',9:'yz'}\n",
    "    ss=[]\n",
    "    res = []\n",
    "    for k in s:\n",
    "        ss.append(nump[int(k)])\n",
    "    \n",
    "    def words(i=0,j=0):\n",
    "        if i == len(ss[0]):\n",
    "            return res\n",
    "        if j==len(ss[1]):\n",
    "            return words(i+1,0)\n",
    "        res.append(ss[0][i]+ss[1][j])\n",
    "        return words(i,j+1)\n",
    "    \n",
    "    print(' '.join(words()))\n",
    "\n",
    "mainnumpad(\"39\")\n"
   ]
  },
  {
   "cell_type": "code",
   "execution_count": 44,
   "metadata": {},
   "outputs": [
    {
     "name": "stdout",
     "output_type": "stream",
     "text": [
      "gyt hyt iyt gzt hzt izt gyu hyu iyu gzu hzu izu\n"
     ]
    }
   ],
   "source": [
    "key = \"397\"\n",
    "def mainnumpad(key):    \n",
    "    res = []  \n",
    "    numpad = {0:'.;',1:'abc',2:'def',3:'ghi',4:'jkl',5:'mno',6:'pqrs',7:'tu',8:'vwx',9:'yz'}\n",
    "    \n",
    "    def word(key,j,curr=\"\"):\n",
    "        if j==-1:\n",
    "            res.append(curr)\n",
    "            return res\n",
    "        \n",
    "        digit = int(key[j])\n",
    "        \n",
    "        for i in range(len(numpad[digit])):\n",
    "            word(key,j-1,numpad[digit][i]+curr)\n",
    "\n",
    "    word(key,len(key)-1)\n",
    "    return ' '.join(res)\n",
    "\n",
    "print(mainnumpad(key))"
   ]
  },
  {
   "attachments": {},
   "cell_type": "markdown",
   "metadata": {},
   "source": [
    "Q5. RECURSION HOMEWORK\n",
    "\n",
    "sentence = \"NLPISMAZING\"\n",
    "\n",
    "vocab = [\"NLP\",\"IS\",\"AMAZING\",\"NLPIS\",\"PI\",\"ZING\",\"AMA\"]\n",
    "\n",
    "OUTPUT EXAMPLE\n",
    "\n",
    "\"NLP IS AMAZING\"\n",
    "\n",
    "\"NLP IS AMA ZING\"\n",
    "\n",
    "\"NLIPIS AMAZING\"\n",
    "\n",
    "\"NLPIS AMA ZING\"\n",
    "\n",
    "so on.."
   ]
  },
  {
   "cell_type": "code",
   "execution_count": 5,
   "metadata": {},
   "outputs": [
    {
     "name": "stdout",
     "output_type": "stream",
     "text": [
      "['NLP IS AMAZING', 'NLP IS AMA ZING', 'NLPIS AMAZING', 'NLPIS AMA ZING']\n"
     ]
    }
   ],
   "source": [
    "#UNSOLVED\n",
    "str1 = \"NLPISAMAZING\"\n",
    "vocab = [\"NLP\",\"IS\",\"AMAZING\",\"NLPIS\",\"PI\",\"ZING\",\"AMA\"]\n",
    "\n",
    "def sent(str1,curr=\"\",final=[]):\n",
    "    if len(str1)==0:\n",
    "        final.append(curr.strip(\" \"))\n",
    "    else:\n",
    "        for i in vocab:\n",
    "            if str1[:len(i)]==i:\n",
    "                sent(str1[len(i):],curr+i+\" \") \n",
    "    return final\n",
    "\n",
    "print(sent(str1))"
   ]
  },
  {
   "attachments": {},
   "cell_type": "markdown",
   "metadata": {},
   "source": [
    "Q6: Implement Modified Insertion Sort which used Binary Search to find the right spot for Element on Left Hand Side of Array."
   ]
  },
  {
   "cell_type": "code",
   "execution_count": null,
   "metadata": {},
   "outputs": [],
   "source": []
  }
 ],
 "metadata": {
  "kernelspec": {
   "display_name": "Python 3",
   "language": "python",
   "name": "python3"
  },
  "language_info": {
   "codemirror_mode": {
    "name": "ipython",
    "version": 3
   },
   "file_extension": ".py",
   "mimetype": "text/x-python",
   "name": "python",
   "nbconvert_exporter": "python",
   "pygments_lexer": "ipython3",
   "version": "3.10.9"
  },
  "orig_nbformat": 4,
  "vscode": {
   "interpreter": {
    "hash": "ed151676ba7cc20a52a8e3d85c1398e9c2097e3c955486c9e29439ec09d18f71"
   }
  }
 },
 "nbformat": 4,
 "nbformat_minor": 2
}
