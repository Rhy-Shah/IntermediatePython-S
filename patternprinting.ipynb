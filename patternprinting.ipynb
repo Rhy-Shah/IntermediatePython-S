{
 "cells": [
  {
   "cell_type": "code",
   "execution_count": 1,
   "metadata": {},
   "outputs": [
    {
     "name": "stdout",
     "output_type": "stream",
     "text": [
      "      1\n",
      "     11\n",
      "    121\n",
      "   1331\n",
      "  14641\n",
      " 161051\n"
     ]
    }
   ],
   "source": [
    "n = 6\n",
    "s=1\n",
    "for i in range(n):\n",
    "    for j in range(n,i,-1):\n",
    "        print(end=\" \")\n",
    "    for k in range(1):\n",
    "        print(s)\n",
    "        s*=11"
   ]
  },
  {
   "cell_type": "code",
   "execution_count": 2,
   "metadata": {},
   "outputs": [
    {
     "name": "stdout",
     "output_type": "stream",
     "text": [
      "0 0 0 0 1 0 0 0 0 \n",
      "0 0 0 2 3 2 0 0 0 \n",
      "0 0 3 4 5 4 3 0 0 \n",
      "0 4 5 6 7 6 5 4 0 \n",
      "5 6 7 8 9 8 7 6 5 \n"
     ]
    }
   ],
   "source": [
    "n = 5\n",
    "for i in range(n):\n",
    "    step = i+1\n",
    "    cnt = 0\n",
    "    print(\"0 \"*(n-i-1),end=\"\")\n",
    "    for k in range(i+1):\n",
    "        print(step,end=\" \")\n",
    "        cnt = step-1\n",
    "        step+=1\n",
    "    for l in range(1,i+1):\n",
    "        print(cnt,end=\" \")\n",
    "        cnt-=1\n",
    "    print(\"0 \"*(n-i-1),end=\"\")\n",
    "    print()"
   ]
  },
  {
   "cell_type": "code",
   "execution_count": 3,
   "metadata": {},
   "outputs": [
    {
     "name": "stdout",
     "output_type": "stream",
     "text": [
      "              *\n",
      "             * *\n",
      "            *   *\n",
      "           *     *\n",
      "          *       *\n",
      "         *         *\n",
      "        *           *\n",
      "       *             *\n",
      "      *               *\n",
      "     *                 *\n",
      "    *                   *\n",
      "   *                     *\n",
      "  *                       *\n",
      " *                         *\n",
      "*****************************\n"
     ]
    }
   ],
   "source": [
    "n = 15\n",
    "for i in range(n-1):\n",
    "    print(\" \"*(n-i-1)+\"*\",end=\"\")\n",
    "    if(i!=0):\n",
    "        print(\" \"*(2*i-1)+\"*\")\n",
    "    else: print()\n",
    "print(\"*\"*(2*n-1))"
   ]
  },
  {
   "cell_type": "code",
   "execution_count": 4,
   "metadata": {},
   "outputs": [
    {
     "name": "stdout",
     "output_type": "stream",
     "text": [
      "0 0 0 0 5 0 0 0 0 \n",
      "0 0 0 4 8 12 0 0 0 \n",
      "0 0 3 6 9 12 15 0 0 \n",
      "0 2 4 6 8 10 12 14 0 \n",
      "1 2 3 4 5 6 7 8 9 \n"
     ]
    }
   ],
   "source": [
    "n = 5\n",
    "for i in range(n,0,-1):\n",
    "    print(\"0 \"*(i-1),end=\"\")\n",
    "    for j in range(1, 2*(n-i)+2):\n",
    "        print(j*i,end=\" \")  \n",
    "    print(\"0 \"*(i-1),end=\"\")\n",
    "    print()  "
   ]
  },
  {
   "cell_type": "code",
   "execution_count": 5,
   "metadata": {},
   "outputs": [
    {
     "name": "stdout",
     "output_type": "stream",
     "text": [
      "5 5 5 5 1 \n",
      "5 4 4 4 1 \n",
      "5 4 3 3 1 \n",
      "5 4 3 2 1 \n",
      "5 4 3 2 1 \n"
     ]
    }
   ],
   "source": [
    "n = 5\n",
    "for i in range(n):\n",
    "    for j in range(n):\n",
    "        if(j>=i and j<=n//2+1):\n",
    "            print(n-i,end=\" \")\n",
    "        else: print(n-j,end=\" \")\n",
    "    print()"
   ]
  },
  {
   "cell_type": "code",
   "execution_count": 6,
   "metadata": {},
   "outputs": [
    {
     "name": "stdout",
     "output_type": "stream",
     "text": [
      "*****\n",
      "hhh*\n",
      "hh*\n",
      "h*\n",
      "*****\n"
     ]
    }
   ],
   "source": [
    "n = 5\n",
    "print(\"*\"*n)\n",
    "for i in range(n-2):\n",
    "    print(\"h\"*(n-i-2)+\"*\")\n",
    "print(\"*\"*n)"
   ]
  },
  {
   "cell_type": "code",
   "execution_count": 7,
   "metadata": {},
   "outputs": [
    {
     "name": "stdout",
     "output_type": "stream",
     "text": [
      "2 \n",
      "1 2 \n",
      "4 4 4 \n",
      "3 4 5 6 \n"
     ]
    }
   ],
   "source": [
    "n = 4\n",
    "step = 1\n",
    "for i in range(1,n+1):\n",
    "    for j in range(1,i+1):\n",
    "        if i%2==0:\n",
    "            print(step,end=\" \")\n",
    "            step+=1\n",
    "        else:\n",
    "            cnt = step+1\n",
    "            print(cnt,end=\" \")\n",
    "            cnt -= 1\n",
    "    print()"
   ]
  }
 ],
 "metadata": {
  "kernelspec": {
   "display_name": "Python 3",
   "language": "python",
   "name": "python3"
  },
  "language_info": {
   "codemirror_mode": {
    "name": "ipython",
    "version": 3
   },
   "file_extension": ".py",
   "mimetype": "text/x-python",
   "name": "python",
   "nbconvert_exporter": "python",
   "pygments_lexer": "ipython3",
   "version": "3.10.9"
  },
  "orig_nbformat": 4,
  "vscode": {
   "interpreter": {
    "hash": "ed151676ba7cc20a52a8e3d85c1398e9c2097e3c955486c9e29439ec09d18f71"
   }
  }
 },
 "nbformat": 4,
 "nbformat_minor": 2
}
