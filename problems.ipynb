{
 "cells": [
  {
   "cell_type": "code",
   "execution_count": 1,
   "metadata": {},
   "outputs": [
    {
     "name": "stdout",
     "output_type": "stream",
     "text": [
      "Name: Sanjay Club: Real Madrid Sports: Football Name: Ravi Club: United Sports: Tennis "
     ]
    }
   ],
   "source": [
    "class Player:\n",
    "  club = 'United'\n",
    "  sport = 'Football'\n",
    "\n",
    "  def __init__(self, name):\n",
    "    self.name = name\n",
    "\n",
    "  def show(self):\n",
    "    print('Name:', self.name, 'Club:', self.club, 'Sports:', self.sport, end=\" \")\n",
    "\n",
    "p1 = Player('Sanjay')\n",
    "p1.club = 'Real Madrid'\n",
    "p1.show()\n",
    "\n",
    "p2 = Player('Ravi')\n",
    "p2.sport = 'Tennis'\n",
    "p2.show()"
   ]
  },
  {
   "cell_type": "code",
   "execution_count": 11,
   "metadata": {},
   "outputs": [
    {
     "name": "stdout",
     "output_type": "stream",
     "text": [
      "4\n"
     ]
    }
   ],
   "source": [
    "import math\n",
    "print(math.ceil(3.2))"
   ]
  },
  {
   "cell_type": "code",
   "execution_count": 1,
   "metadata": {},
   "outputs": [
    {
     "name": "stdout",
     "output_type": "stream",
     "text": [
      "Derived_Demo's __new__() invoked\n",
      "Demo's __init__() invoked\n",
      "Demo's __new__() invoked\n"
     ]
    }
   ],
   "source": [
    "class Demo:\n",
    "    def __new__(self):\n",
    "        self.__init__(self)\n",
    "        print(\"Demo's __new__() invoked\")\n",
    "\n",
    "    def __init__(self):\n",
    "        print(\"Demo's __init__() invoked\")\n",
    "\n",
    "class Derived_Demo(Demo):\n",
    "    def __new__(self):\n",
    "        print(\"Derived_Demo's __new__() invoked\")\n",
    "    \n",
    "    def __init__(self):\n",
    "        print(\"Derived_Demo's __init__() invoked\")\n",
    "\n",
    "def main():\n",
    "    obj1 = Derived_Demo()\n",
    "    obj2 = Demo()\n",
    "\n",
    "main()"
   ]
  },
  {
   "cell_type": "code",
   "execution_count": 2,
   "metadata": {},
   "outputs": [
    {
     "name": "stdout",
     "output_type": "stream",
     "text": [
      "test of child1 called, test of child2 called, test of parent called, "
     ]
    }
   ],
   "source": [
    "class Parent:\n",
    "    def test(self):\n",
    "        print(\"test of parent called\", end=\", \")\n",
    "class Child1(Parent):\n",
    "    def test(self):\n",
    "        print(\"test of child1 called\", end=\", \")\n",
    "        super().test()\n",
    "class Child2(Parent):\n",
    "    def test(self):\n",
    "        print(\"test of child2 called\", end=\", \")\n",
    "        super().test()\n",
    "class Brother(Child1,Child2):\n",
    "    def test2(self):\n",
    "        print(\"test of Brother called\", end=\", \" )\n",
    "\n",
    "obj= Brother()\n",
    "obj.test()"
   ]
  },
  {
   "cell_type": "code",
   "execution_count": 4,
   "metadata": {},
   "outputs": [
    {
     "ename": "UnboundLocalError",
     "evalue": "local variable 'n' referenced before assignment",
     "output_type": "error",
     "traceback": [
      "\u001b[1;31m---------------------------------------------------------------------------\u001b[0m",
      "\u001b[1;31mUnboundLocalError\u001b[0m                         Traceback (most recent call last)",
      "Cell \u001b[1;32mIn[4], line 9\u001b[0m\n\u001b[0;32m      3\u001b[0m        n \u001b[39m=\u001b[39m \u001b[39m10\u001b[39m\u001b[39m*\u001b[39m\u001b[39m*\u001b[39m\u001b[39m-\u001b[39mdigits, \u001b[39mround\u001b[39m(math\u001b[39m.\u001b[39mceil(a\u001b[39m/\u001b[39mn)\u001b[39m*\u001b[39mn,digits)\n\u001b[0;32m      6\u001b[0m        \u001b[39mreturn\u001b[39;00m \u001b[39m10\u001b[39m\u001b[39m*\u001b[39m\u001b[39m*\u001b[39m\u001b[39m-\u001b[39mdigits, \u001b[39mround\u001b[39m(math\u001b[39m.\u001b[39mceil(a\u001b[39m/\u001b[39mn)\u001b[39m*\u001b[39mn,digits)\n\u001b[1;32m----> 9\u001b[0m \u001b[39mprint\u001b[39m(roundup(\u001b[39m123.01247\u001b[39;49m,\u001b[39m2\u001b[39;49m))\n",
      "Cell \u001b[1;32mIn[4], line 3\u001b[0m, in \u001b[0;36mroundup\u001b[1;34m(a, digits)\u001b[0m\n\u001b[0;32m      2\u001b[0m \u001b[39mdef\u001b[39;00m \u001b[39mroundup\u001b[39m(a, digits):\n\u001b[1;32m----> 3\u001b[0m        n \u001b[39m=\u001b[39m \u001b[39m10\u001b[39m\u001b[39m*\u001b[39m\u001b[39m*\u001b[39m\u001b[39m-\u001b[39mdigits, \u001b[39mround\u001b[39m(math\u001b[39m.\u001b[39mceil(a\u001b[39m/\u001b[39mn)\u001b[39m*\u001b[39mn,digits)\n\u001b[0;32m      6\u001b[0m        \u001b[39mreturn\u001b[39;00m \u001b[39m10\u001b[39m\u001b[39m*\u001b[39m\u001b[39m*\u001b[39m\u001b[39m-\u001b[39mdigits, \u001b[39mround\u001b[39m(math\u001b[39m.\u001b[39mceil(a\u001b[39m/\u001b[39mn)\u001b[39m*\u001b[39mn,digits)\n",
      "\u001b[1;31mUnboundLocalError\u001b[0m: local variable 'n' referenced before assignment"
     ]
    }
   ],
   "source": [
    "import math\n",
    "def roundup(a, digits):\n",
    "       n = 10**-digits, round(math.ceil(a/n)*n,digits)\n",
    "\n",
    "\n",
    "       return 10**-digits, round(math.ceil(a/n)*n,digits)\n",
    "\n",
    "   \n",
    "print(roundup(123.01247,2))"
   ]
  },
  {
   "cell_type": "code",
   "execution_count": 5,
   "metadata": {},
   "outputs": [
    {
     "name": "stdout",
     "output_type": "stream",
     "text": [
      "a fully-managed MySQL and PostgreSQL\n"
     ]
    }
   ],
   "source": [
    "\n",
    "string = '''\n",
    "We spent several years building our own database engine, Amazon Aurora, a fully-managed MySQL and PostgreSQL-compatible service with the same or better durability and availability as\n",
    "the commercial engines, but at one-tenth of the cost. We were not surprised when this worked.\n",
    "'''\n",
    "result = lambda key, val: key[ key.find(val) -18 : key.find(val) +18 ] if val in key else -1\n",
    "\n",
    "print(result(string, 'SQL'))"
   ]
  },
  {
   "cell_type": "code",
   "execution_count": null,
   "metadata": {},
   "outputs": [],
   "source": [
    "class student: \n",
    "    def __init__(self): \n",
    "        '''The student class is initialized'''\n",
    "\n",
    "    def print_student(self): \n",
    "        '''Returns the student description'''\n",
    "        print('student description') \n",
    "\n",
    "help(student)"
   ]
  },
  {
   "cell_type": "code",
   "execution_count": 1,
   "metadata": {},
   "outputs": [
    {
     "name": "stdout",
     "output_type": "stream",
     "text": [
      "[(1, 4, 7, 9, 6, 3), (2, 5, 8, 8, 5, 2), (3, 6, 9, 7, 4, 1)]\n"
     ]
    }
   ],
   "source": [
    "list1 = [[1,2,3],[4,5,6],[7,8,9]]\n",
    "list2 = [[9,8,7],[6,5,4],[3,2,1]]\n",
    "ls11,ls12,ls13=list1\n",
    "ls21,ls22,ls23=list2\n",
    "print(list(zip(ls11,ls12,ls13,ls21,ls22,ls23)))"
   ]
  },
  {
   "cell_type": "code",
   "execution_count": 1,
   "metadata": {},
   "outputs": [
    {
     "name": "stdout",
     "output_type": "stream",
     "text": [
      "0\n",
      "14\n",
      "82\n",
      "71\n",
      "23\n",
      "13\n",
      "61\n",
      "30\n",
      "67\n",
      "15\n",
      "34\n",
      "54\n",
      "64\n",
      "49\n",
      "41\n",
      "37\n",
      "7\n",
      "48\n",
      "50\n",
      "60\n",
      "43\n",
      "84\n",
      "10\n",
      "88\n",
      "20\n",
      "56\n",
      "19\n",
      "4\n",
      "25\n",
      "40\n",
      "62\n",
      "94\n",
      "90\n",
      "76\n",
      "35\n",
      "42\n",
      "97\n",
      "92\n",
      "38\n",
      "8\n",
      "58\n",
      "45\n",
      "99\n",
      "80\n",
      "6\n",
      "47\n",
      "78\n",
      "86\n",
      "77\n",
      "5\n",
      "73\n",
      "32\n",
      "68\n",
      "98\n",
      "72\n",
      "70\n",
      "74\n",
      "39\n",
      "52\n",
      "96\n",
      "16\n",
      "11\n",
      "21\n",
      "69\n",
      "51\n",
      "59\n",
      "29\n",
      "18\n",
      "12\n",
      "26\n",
      "91\n",
      "9\n",
      "22\n",
      "36\n",
      "95\n",
      "79\n",
      "27\n",
      "1\n",
      "53\n",
      "55\n",
      "33\n",
      "3\n",
      "85\n",
      "63\n",
      "17\n",
      "89\n",
      "2\n",
      "28\n",
      "46\n",
      "75\n",
      "87\n",
      "57\n",
      "31\n",
      "66\n",
      "44\n",
      "83\n",
      "81\n",
      "65\n",
      "93\n",
      "24\n"
     ]
    }
   ],
   "source": [
    "import random\n",
    "\n",
    "array = list(range(100))\n",
    "random.shuffle(array)\n",
    "while len(array) != 0:\n",
    "      print(array.pop())"
   ]
  },
  {
   "cell_type": "code",
   "execution_count": 5,
   "metadata": {},
   "outputs": [
    {
     "name": "stdout",
     "output_type": "stream",
     "text": [
      "[{'name': 'Alice', 'salary': 180000, 'job': 'data scientist'}, {'name': 'Bob', 'salary': 99000, 'job': 'data engineer'}, {'name': 'Frank', 'salary': 87000, 'job': 'data analyst'}]\n"
     ]
    }
   ],
   "source": [
    "column_names = ['name', 'salary', 'job']\n",
    "db_rows = [('Alice', 180000, 'data scientist'),\n",
    "           ('Bob', 99000, 'data engineer'),\n",
    "           ('Frank', 87000, 'data analyst')]\n",
    "\n",
    "db = [dict(zip(column_names,row)) for row in db_rows]\n",
    "print(db)"
   ]
  },
  {
   "cell_type": "code",
   "execution_count": 16,
   "metadata": {},
   "outputs": [
    {
     "name": "stdout",
     "output_type": "stream",
     "text": [
      "['sara@scaler.com', 'brian-23@scaler.com', 'brute_54@scaler.com']\n"
     ]
    }
   ],
   "source": [
    "\n",
    "res = []\n",
    "\n",
    "ls = ['sara@scaler.com','brian-23@scaler.com','brute_54@scaler.com']\n",
    "\n",
    "for i in ls:\n",
    "    if i.count('@')==1:\n",
    "        s = i.split('@')\n",
    "        if len(s)==2:\n",
    "            if len(s[0])<=20 and s[1].count('.')==1:\n",
    "                k = s[1].split('.')\n",
    "                if k!=\"\":\n",
    "                    res.append(i)\n",
    "            else:\n",
    "                continue\n",
    "        else:\n",
    "            continue\n",
    "    else:\n",
    "        continue\n",
    "        \n",
    "print(res)\n"
   ]
  },
  {
   "cell_type": "code",
   "execution_count": 1,
   "metadata": {},
   "outputs": [
    {
     "name": "stdout",
     "output_type": "stream",
     "text": [
      "(1, 4)\n"
     ]
    }
   ],
   "source": [
    "def func2(c, d):\n",
    "    return c, d\n",
    "\n",
    "def func1(a, b):\n",
    "    c = a**1\n",
    "    d = b**2\n",
    "    return lambda: func2(c,d)\n",
    "\n",
    "result = func1(1, 2)\n",
    "\n",
    "print(result())"
   ]
  },
  {
   "cell_type": "code",
   "execution_count": 2,
   "metadata": {},
   "outputs": [
    {
     "ename": "IndexError",
     "evalue": "list index out of range",
     "output_type": "error",
     "traceback": [
      "\u001b[1;31m---------------------------------------------------------------------------\u001b[0m",
      "\u001b[1;31mIndexError\u001b[0m                                Traceback (most recent call last)",
      "Cell \u001b[1;32mIn[2], line 3\u001b[0m\n\u001b[0;32m      1\u001b[0m arr \u001b[39m=\u001b[39m \u001b[39mlist\u001b[39m(\u001b[39mmap\u001b[39m(\u001b[39mint\u001b[39m,\u001b[39minput\u001b[39m()\u001b[39m.\u001b[39msplit()))\n\u001b[0;32m      2\u001b[0m \u001b[39mfor\u001b[39;00m i \u001b[39min\u001b[39;00m \u001b[39mrange\u001b[39m(\u001b[39mlen\u001b[39m(arr)\u001b[39m-\u001b[39m\u001b[39m2\u001b[39m,\u001b[39m0\u001b[39m):\n\u001b[1;32m----> 3\u001b[0m     \u001b[39mprint\u001b[39m(arr[i],end\u001b[39m=\u001b[39m\u001b[39m\"\u001b[39m\u001b[39m \u001b[39m\u001b[39m\"\u001b[39m)\n",
      "\u001b[1;31mIndexError\u001b[0m: list index out of range"
     ]
    }
   ],
   "source": [
    "arr = list(map(int,input().split()))\n",
    "for i in range(len(arr)-2,0):\n",
    "    print(arr[i],end=\" \")"
   ]
  },
  {
   "cell_type": "code",
   "execution_count": 3,
   "metadata": {},
   "outputs": [
    {
     "name": "stdout",
     "output_type": "stream",
     "text": [
      "0 2 4 6 8 "
     ]
    }
   ],
   "source": [
    "odd=lambda x: bool(x%2)\n",
    "result=[n for n in range(10)]\n",
    "\n",
    "for i in result:\n",
    "    if odd(i):\n",
    "        continue       \n",
    "    else:\n",
    "        print(i, end=\" \")"
   ]
  },
  {
   "cell_type": "code",
   "execution_count": 1,
   "metadata": {},
   "outputs": [
    {
     "data": {
      "text/plain": [
       "'Hello World I am AI'"
      ]
     },
     "execution_count": 1,
     "metadata": {},
     "output_type": "execute_result"
    }
   ],
   "source": [
    "string = \"Hello World I am AI\"\n",
    "length = 2\n",
    "\n",
    "(lambda x:x)(string)"
   ]
  },
  {
   "cell_type": "code",
   "execution_count": 3,
   "metadata": {},
   "outputs": [
    {
     "name": "stdout",
     "output_type": "stream",
     "text": [
      "0\n"
     ]
    }
   ],
   "source": [
    "class A:\n",
    "    counter=0\n",
    "    def __init__(self):\n",
    "      self.counter+=1\n",
    "\n",
    "A()\n",
    "\n",
    "obj1 = A()\n",
    "\n",
    "if A():\n",
    "    print(A.counter)"
   ]
  },
  {
   "cell_type": "code",
   "execution_count": 9,
   "metadata": {},
   "outputs": [
    {
     "name": "stdout",
     "output_type": "stream",
     "text": [
      "[1, 1, 1]\n"
     ]
    }
   ],
   "source": [
    "class A:\n",
    "    counter= []\n",
    "    def __init__(self):\n",
    "      self.counter.append(1)\n",
    "\n",
    "A()\n",
    "\n",
    "obj1 = A()\n",
    "\n",
    "if A():\n",
    "    print(A.counter)"
   ]
  },
  {
   "cell_type": "code",
   "execution_count": 2,
   "metadata": {},
   "outputs": [
    {
     "data": {
      "text/plain": [
       "35"
      ]
     },
     "execution_count": 2,
     "metadata": {},
     "output_type": "execute_result"
    }
   ],
   "source": [
    "(lambda x:x if x<5 else x+10 if x<10 else x+20 if x<20 else \"Invalid Number\")(15)"
   ]
  },
  {
   "cell_type": "code",
   "execution_count": 7,
   "metadata": {},
   "outputs": [
    {
     "data": {
      "text/plain": [
       "[[56, 89, 90], [3, 4, 5], [11, 91, 3]]"
      ]
     },
     "execution_count": 7,
     "metadata": {},
     "output_type": "execute_result"
    }
   ],
   "source": [
    "list1 = [[11,91,3],[3,4,5],[56,89,90]]\n",
    "# sorted(list1)\n",
    "\n",
    "sorted(list1,key=lambda x:x[2],reverse=True)"
   ]
  },
  {
   "cell_type": "code",
   "execution_count": 19,
   "metadata": {},
   "outputs": [
    {
     "data": {
      "text/plain": [
       "[('Vineet', 45), ('Taashu', 60), ('Rhy', 50), ('Ismail', 40), ('Aryan', 55)]"
      ]
     },
     "execution_count": 19,
     "metadata": {},
     "output_type": "execute_result"
    }
   ],
   "source": [
    "dict1= {\"Vineet\":45,\"Rhy\":50,\"Aryan\":55,\"Taashu\":60,\"Ismail\":40}\n",
    "\n",
    "sorted(list(dict1.items()),key= lambda x: x[0],reverse = True)"
   ]
  },
  {
   "cell_type": "code",
   "execution_count": 21,
   "metadata": {},
   "outputs": [
    {
     "data": {
      "text/plain": [
       "['Taashu', 'Aryan', 'Rhy', 'Vineet', 'Ismail']"
      ]
     },
     "execution_count": 21,
     "metadata": {},
     "output_type": "execute_result"
    }
   ],
   "source": [
    "sorted(dict1,key= lambda x: dict1[x],reverse = True)"
   ]
  },
  {
   "cell_type": "code",
   "execution_count": 25,
   "metadata": {},
   "outputs": [
    {
     "data": {
      "text/plain": [
       "[{'name': 'Rhythm', 'marks': 40},\n",
       " {'name': 'Vineet', 'marks': 45},\n",
       " {'name': 'Taashu', 'marks': 50},\n",
       " {'name': 'Aryan', 'marks': 60}]"
      ]
     },
     "execution_count": 25,
     "metadata": {},
     "output_type": "execute_result"
    }
   ],
   "source": [
    "student = [{\"name\":\"Vineet\",\"marks\":45},{\"name\":\"Taashu\",\"marks\":50},{\"name\":\"Rhythm\",\"marks\":40},{\"name\":\"Aryan\",\"marks\":60}]\n",
    "\n",
    "sorted(student,key = lambda x:x[\"marks\"])"
   ]
  },
  {
   "cell_type": "code",
   "execution_count": 70,
   "metadata": {},
   "outputs": [
    {
     "name": "stdout",
     "output_type": "stream",
     "text": [
      "[['S ROY', 1.0], ['C DUTTA', 1.0], ['G GHOSH', 1.0], ['N KAR', 2.0], ['Rhy', 2.0], ['B BOSE', 3.0]]\n",
      "['N KAR', 'Rhy']\n",
      "2.0\n",
      "Rhy\n"
     ]
    }
   ],
   "source": [
    "std = [['S ROY', 1.0], ['B BOSE', 3.0], ['N KAR', 2.0], ['C DUTTA', 1.0], ['G GHOSH', 1.0],['Rhy',2.0]]\n",
    "\n",
    "res = sorted(std,key = lambda x:x[1])\n",
    "result = []\n",
    "print(res)\n",
    "\n",
    "\n",
    "for i in range(len(std)):\n",
    "    if std[i][1] == res[1][1]:\n",
    "        result.append(std[i][0])\n",
    "print(result)\n",
    "print(res[-2][1])\n",
    "print(res[-2][0])"
   ]
  },
  {
   "cell_type": "code",
   "execution_count": 41,
   "metadata": {},
   "outputs": [
    {
     "name": "stdout",
     "output_type": "stream",
     "text": [
      "['am', 'AI']\n"
     ]
    }
   ],
   "source": [
    "print(list(filter(lambda x : len(x)==length,string.split())))"
   ]
  },
  {
   "cell_type": "code",
   "execution_count": 78,
   "metadata": {},
   "outputs": [
    {
     "data": {
      "text/plain": [
       "['banana', 'guava', 'mango']"
      ]
     },
     "execution_count": 78,
     "metadata": {},
     "output_type": "execute_result"
    }
   ],
   "source": [
    "ls = [\"mango\",\"banana\",\"guava\"]\n",
    "\n",
    "sorted(ls,key = lambda x:x.count(\"a\"),reverse = True)"
   ]
  },
  {
   "cell_type": "code",
   "execution_count": 53,
   "metadata": {},
   "outputs": [
    {
     "name": "stdout",
     "output_type": "stream",
     "text": [
      "['Hello', 'World', 'I', 'am', 'AI']\n",
      "   am AI "
     ]
    }
   ],
   "source": [
    "string = \"Hello World I am AI\"\n",
    "st = list(string.split())\n",
    "print(st)\n",
    "length = 2\n",
    "\n",
    "for i in st:\n",
    "    print((lambda x,y:x if len(x)==y else \"\")(i,length),end=\" \")"
   ]
  },
  {
   "cell_type": "code",
   "execution_count": null,
   "metadata": {},
   "outputs": [
    {
     "name": "stdout",
     "output_type": "stream",
     "text": [
      "Roll: 34 Marks: A None Age: 17\n"
     ]
    }
   ],
   "source": [
    "class Student:\n",
    "    def __init__(self,roll,marks):\n",
    "        self.roll = roll\n",
    "        self.marks = marks\n",
    "    def display(self):\n",
    "        print('Roll:', self.roll,'Marks:',self.marks, end=\" \")\n",
    "\n",
    "student1 = Student(34,'A')\n",
    "student1.age = 17\n",
    "print(student1.display(), 'Age:',student1.age)"
   ]
  },
  {
   "cell_type": "code",
   "execution_count": null,
   "metadata": {},
   "outputs": [
    {
     "name": "stdout",
     "output_type": "stream",
     "text": [
      "13\n"
     ]
    }
   ],
   "source": [
    "class fruits:\n",
    "    def __init__(self, price):\n",
    "        self.price = price\n",
    "\n",
    "obj=fruits(50)\n",
    "obj.quantity=10\n",
    "obj.bags=2\n",
    "\n",
    "print(obj.quantity+len(obj.__dict__))"
   ]
  },
  {
   "cell_type": "code",
   "execution_count": null,
   "metadata": {},
   "outputs": [
    {
     "name": "stdout",
     "output_type": "stream",
     "text": [
      "lose win\n"
     ]
    }
   ],
   "source": [
    "class football:\n",
    "    final_res= 'lose'\n",
    "    def __init__(self,name,score):\n",
    "        self.name = name\n",
    "        self.score = score\n",
    "        self.final_res = 'lose'\n",
    "    \n",
    "    def calc(self, winning_score):\n",
    "        if self.score>winning_score:\n",
    "            self.final_res='win'\n",
    "match = football('Juventus',3)\n",
    "match.calc(2)\n",
    "print(football.final_res, match.final_res)"
   ]
  },
  {
   "cell_type": "code",
   "execution_count": null,
   "metadata": {},
   "outputs": [
    {
     "name": "stdout",
     "output_type": "stream",
     "text": [
      "Emma 10 Machine Learning\n"
     ]
    }
   ],
   "source": [
    "class Student:\n",
    "  # Class variable\n",
    "  subject_name = 'Math for Machine Learning'\n",
    "\n",
    "  # constructor\n",
    "  def __init__(self, name, roll_no):\n",
    "    self.name = name\n",
    "    self.roll_no = roll_no\n",
    "\n",
    "s1 = Student('Emma', 10)\n",
    "s1.subject_name = 'Machine Learning'\n",
    "\n",
    "print(s1.name, s1.roll_no, s1.subject_name)"
   ]
  },
  {
   "cell_type": "code",
   "execution_count": null,
   "metadata": {},
   "outputs": [
    {
     "name": "stdout",
     "output_type": "stream",
     "text": [
      "Roll: 34 Marks: A None Age: 17\n"
     ]
    }
   ],
   "source": [
    "class Student:\n",
    "    def __init__(self,roll,marks):\n",
    "        self.roll = roll\n",
    "        self.marks = marks\n",
    "    def display(self):\n",
    "        print('Roll:', self.roll,'Marks:',self.marks, end=\" \")\n",
    "\n",
    "student1 = Student(34,'A')\n",
    "student1.age = 17\n",
    "print(student1.display(), 'Age:',student1.age)"
   ]
  },
  {
   "cell_type": "code",
   "execution_count": null,
   "metadata": {},
   "outputs": [
    {
     "name": "stdout",
     "output_type": "stream",
     "text": [
      "[(True, 64), (False, 125), (True, 216)]\n"
     ]
    }
   ],
   "source": [
    "class solution:\n",
    "  def initial(self,sets):\n",
    "    return self.final(sets)\n",
    " \n",
    "  def final(self, sets):\n",
    "    return list(map(lambda x: ((x**3)%2==0,x**3),sets))\n",
    "\n",
    "print(solution().initial([4,5,6]))"
   ]
  },
  {
   "cell_type": "code",
   "execution_count": null,
   "metadata": {},
   "outputs": [
    {
     "name": "stdout",
     "output_type": "stream",
     "text": [
      "John\n"
     ]
    }
   ],
   "source": [
    "class People():\n",
    "    def __init__(self, name):\n",
    "        self.name = name\n",
    "\n",
    "    def get_name(self):\n",
    "        print(self.name)\n",
    "\n",
    "person1 = People(\"John\")\n",
    "person2 = People(\"Mary\")\n",
    "person1.get_name()"
   ]
  },
  {
   "cell_type": "code",
   "execution_count": null,
   "metadata": {},
   "outputs": [
    {
     "name": "stdout",
     "output_type": "stream",
     "text": [
      "['Hello', 'GoodMorning', '890']\n"
     ]
    }
   ],
   "source": [
    "my_list = [\"Woww!\",\"#4678\",\"Hello\",\"GoodMorning\",\"890\"]\n",
    "l = [n for n in my_list if n.isalpha() or n.isdigit()]\n",
    "print(l)"
   ]
  }
 ],
 "metadata": {
  "kernelspec": {
   "display_name": "Python 3",
   "language": "python",
   "name": "python3"
  },
  "language_info": {
   "codemirror_mode": {
    "name": "ipython",
    "version": 3
   },
   "file_extension": ".py",
   "mimetype": "text/x-python",
   "name": "python",
   "nbconvert_exporter": "python",
   "pygments_lexer": "ipython3",
   "version": "3.10.9"
  },
  "orig_nbformat": 4,
  "vscode": {
   "interpreter": {
    "hash": "ed151676ba7cc20a52a8e3d85c1398e9c2097e3c955486c9e29439ec09d18f71"
   }
  }
 },
 "nbformat": 4,
 "nbformat_minor": 2
}
