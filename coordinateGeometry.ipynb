{
 "cells": [
  {
   "cell_type": "code",
   "execution_count": 17,
   "metadata": {},
   "outputs": [
    {
     "name": "stdout",
     "output_type": "stream",
     "text": [
      "['Adam', 'Jacob']\n"
     ]
    }
   ],
   "source": [
    "#Pair the students\n",
    "\n",
    "loc = [(1,2),(5,4),(0,3),(2,3),(0,0)]\n",
    "names = [\"Adam\",\"Millie\",\"Jacob\",\"Michael\",\"Maxine\"]\n",
    "\n",
    "def nearestStudents(names,loc):\n",
    "    \n",
    "    low = 1e9\n",
    "    for i in range(len(loc)-1):\n",
    "        for j in range(i+1,len(loc)):\n",
    "            res = abs(loc[i][0] - loc[j][0]) + abs(loc[i][1] - loc[j][1])\n",
    "            if res < low:\n",
    "                low = res\n",
    "                n1 = names[i]\n",
    "                n2 = names[j]\n",
    "                \n",
    "    return [n1,n2]\n",
    "\n",
    "print(nearestStudents(names,loc))\n",
    "    "
   ]
  },
  {
   "attachments": {},
   "cell_type": "markdown",
   "metadata": {},
   "source": [
    "3,2\n",
    "x,-1\n",
    "\n",
    "euclidean = 5\n",
    "\n",
    "25 = 9 + (x-3)2\n",
    "x - 3 = +-4\n",
    "\n",
    "x = 7,-1\n",
    "\n",
    "\n",
    "3,2\n",
    "7,-1\n",
    "\n",
    "m = -3/4\n",
    "2 = (-9/4) + c\n",
    "\n",
    "c = 17/4\n",
    "\n",
    "y = mx+c\n",
    "y = (-3/4)x + 17/4\n",
    "\n",
    "3x+4y - 17 = 0\n",
    "\n",
    "\n",
    "3,2\n",
    "-1,-1\n",
    "\n",
    "m = 3/4\n",
    "2 = 9/4 + c\n",
    "c = -1/4\n",
    "\n",
    "y = 3/4x-1/4\n",
    "\n",
    "3x-4y-1=0"
   ]
  },
  {
   "attachments": {},
   "cell_type": "markdown",
   "metadata": {},
   "source": [
    " 2x - 5y+20=0\n",
    " \n",
    " m = 2/3\n",
    " c = 4\n",
    "\n",
    " y = 2/3x+4\n",
    "\n",
    " 2x-3y+12"
   ]
  }
 ],
 "metadata": {
  "kernelspec": {
   "display_name": "Python 3",
   "language": "python",
   "name": "python3"
  },
  "language_info": {
   "codemirror_mode": {
    "name": "ipython",
    "version": 3
   },
   "file_extension": ".py",
   "mimetype": "text/x-python",
   "name": "python",
   "nbconvert_exporter": "python",
   "pygments_lexer": "ipython3",
   "version": "3.10.9"
  },
  "orig_nbformat": 4
 },
 "nbformat": 4,
 "nbformat_minor": 2
}
