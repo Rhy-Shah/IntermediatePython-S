{
  "cells": [
    {
      "cell_type": "code",
      "execution_count": 12,
      "metadata": {
        "colab": {
          "base_uri": "https://localhost:8080/"
        },
        "id": "VpFwdvhL35wg",
        "outputId": "52c15ddf-e917-46f4-8161-e2f83b455f77"
      },
      "outputs": [
        {
          "data": {
            "text/plain": [
              "[[],\n",
              " [4],\n",
              " [4, 12],\n",
              " [4, 12, 15],\n",
              " [4, 12, 15, 19],\n",
              " [4, 12, 15, 19, 20],\n",
              " [4, 12, 15, 20],\n",
              " [4, 12, 19],\n",
              " [4, 12, 19, 20],\n",
              " [4, 12, 20],\n",
              " [4, 15],\n",
              " [4, 15, 19],\n",
              " [4, 15, 19, 20],\n",
              " [4, 15, 20],\n",
              " [4, 19],\n",
              " [4, 19, 20],\n",
              " [4, 20],\n",
              " [12],\n",
              " [12, 15],\n",
              " [12, 15, 19],\n",
              " [12, 15, 19, 20],\n",
              " [12, 15, 20],\n",
              " [12, 19],\n",
              " [12, 19, 20],\n",
              " [12, 20],\n",
              " [15],\n",
              " [15, 19],\n",
              " [15, 19, 20],\n",
              " [15, 20],\n",
              " [19],\n",
              " [19, 20],\n",
              " [20]]"
            ]
          },
          "execution_count": 12,
          "metadata": {},
          "output_type": "execute_result"
        }
      ],
      "source": [
        "def get_subset(input_list, curr_sub = [], output_list=[]):\n",
        "  if len(input_list)==0:\n",
        "    output_list.append(curr_sub)\n",
        "  else:\n",
        "\n",
        "\n",
        "    # exclude the first element from subset\n",
        "    get_subset(input_list[:-1], curr_sub, output_list )\n",
        "\n",
        "    # included the first element into subset\n",
        "    get_subset(input_list[:-1], [input_list[-1]]+ curr_sub, output_list )\n",
        "\n",
        "  return sorted(output_list)\n",
        "\n",
        "\n",
        "input_list =  sorted([ 15, 20, 12, 19, 4 ])\n",
        "\n",
        "get_subset(input_list, curr_sub = [], output_list=[])"
      ]
    },
    {
      "cell_type": "code",
      "execution_count": 23,
      "metadata": {
        "colab": {
          "base_uri": "https://localhost:8080/"
        },
        "id": "fhjYzzkCY_ix",
        "outputId": "3e504749-6a26-48a5-d899-8c3f2adba685"
      },
      "outputs": [
        {
          "data": {
            "text/plain": [
              "[[1, 2], [1, 3], [1, 4], [2, 3], [2, 4], [3, 4]]"
            ]
          },
          "execution_count": 23,
          "metadata": {},
          "output_type": "execute_result"
        }
      ],
      "source": [
        "def get_subset(input_list, curr_sub = [], output_list=[], B =2):\n",
        "  if len(input_list)==0 or len(curr_sub)==B:\n",
        "    if len(curr_sub)==B:\n",
        "      output_list.append(curr_sub)\n",
        "  else:\n",
        "\n",
        "    # included the first element into subset\n",
        "    get_subset(input_list[1:],  curr_sub + [input_list[0]], output_list, B )\n",
        "\n",
        "    # exclude the first element from subset\n",
        "    get_subset(input_list[1:], curr_sub, output_list, B )\n",
        "    \n",
        "\n",
        "\n",
        "  return (output_list)\n",
        "\n",
        "A = 4\n",
        "\n",
        "input_list =  list(range(1,A+1))\n",
        "B = 2\n",
        "\n",
        "get_subset(input_list, curr_sub = [], output_list=[] , B = 2)"
      ]
    },
    {
      "cell_type": "code",
      "execution_count": 22,
      "metadata": {
        "colab": {
          "base_uri": "https://localhost:8080/"
        },
        "id": "jJa5A0S5bIN5",
        "outputId": "4fef8c6c-694e-498f-bd04-826c72c5d66f"
      },
      "outputs": [
        {
          "data": {
            "text/plain": [
              "[1, 2, 3, 4]"
            ]
          },
          "execution_count": 22,
          "metadata": {},
          "output_type": "execute_result"
        }
      ],
      "source": [
        "A = 4\n",
        "list(range(1,A+1))"
      ]
    },
    {
      "cell_type": "markdown",
      "metadata": {
        "id": "TfVxsUqSUKDh"
      },
      "source": [
        "```\n",
        "- [[2, 3], [2], [3], []] # [1] + f(2,3), f(2,3)\n",
        "- [[1,2,3, [1,2], [1,3],[1], [[2, 3], [2], [3], []]\n",
        "```"
      ]
    },
    {
      "cell_type": "code",
      "execution_count": null,
      "metadata": {
        "id": "87XXmYqJUI94"
      },
      "outputs": [],
      "source": []
    },
    {
      "cell_type": "code",
      "execution_count": null,
      "metadata": {
        "id": "o6QgdwSjSeu1"
      },
      "outputs": [],
      "source": [
        "[1,2,3,4]\n",
        "\n",
        "\n",
        "f(2,3,4)\n",
        "\n",
        "\n",
        "[1 , f(2,3)]\n",
        "[f(2,3)]"
      ]
    },
    {
      "cell_type": "code",
      "execution_count": null,
      "metadata": {
        "id": "YhV-Sy2GTbZk"
      },
      "outputs": [],
      "source": [
        "[[], [1]]\n",
        "\n",
        "\n",
        "[2], [1,2]\n",
        "[1], []"
      ]
    },
    {
      "cell_type": "code",
      "execution_count": null,
      "metadata": {
        "id": "yiHvTwSbV4AL"
      },
      "outputs": [],
      "source": [
        "class Solution:\n",
        "\tdef subsets(self, A):\n",
        "\t    return self.get_subset(A)\n",
        "\t    \n",
        "\t    \n",
        "\tdef get_subset(self, input_list, curr_sub = [], output_list=[]):\n",
        "        if len(input_list)==0:\n",
        "            output_list.append(curr_sub)\n",
        "        else:\n",
        "            # included the first element into subset\n",
        "            get_subset(input_list[1:], curr_sub+[input_list[0]], output_list )\n",
        "        \n",
        "            # exclude the first element from subset\n",
        "            get_subset(input_list[1:], curr_sub, output_list )\n",
        "        \n",
        "        return output_list\n",
        "  "
      ]
    },
    {
      "cell_type": "code",
      "execution_count": null,
      "metadata": {
        "id": "rf47Ps-AcNKz"
      },
      "outputs": [],
      "source": [
        "A = [2, 3, 6, 7]\n",
        "B = 7\n",
        "\n",
        "\n",
        "[7]\n",
        "[2,2,3]\n",
        "\n",
        "# Hint 1: Base Conditon sum(sub)==Target->Append\n",
        "# Hint 2: Donot reduce the list, stop when sum(subset)>target: return None\n",
        "\n"
      ]
    },
    {
      "cell_type": "code",
      "execution_count": null,
      "metadata": {
        "id": "SwTYPKQvdCXr"
      },
      "outputs": [],
      "source": [
        "[2,2,2,2,2.............] "
      ]
    }
  ],
  "metadata": {
    "colab": {
      "provenance": []
    },
    "kernelspec": {
      "display_name": "Python 3",
      "language": "python",
      "name": "python3"
    },
    "language_info": {
      "name": "python",
      "version": "3.10.9"
    },
    "vscode": {
      "interpreter": {
        "hash": "ed151676ba7cc20a52a8e3d85c1398e9c2097e3c955486c9e29439ec09d18f71"
      }
    }
  },
  "nbformat": 4,
  "nbformat_minor": 0
}
