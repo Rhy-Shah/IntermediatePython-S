{
 "cells": [
  {
   "cell_type": "code",
   "execution_count": 19,
   "metadata": {},
   "outputs": [],
   "source": [
    "a = [21,52,64,2,37,5432,853,223,3,69,7,65,342,21]\n",
    "b = 342"
   ]
  },
  {
   "cell_type": "code",
   "execution_count": 20,
   "metadata": {},
   "outputs": [
    {
     "data": {
      "text/plain": [
       "12"
      ]
     },
     "execution_count": 20,
     "metadata": {},
     "output_type": "execute_result"
    }
   ],
   "source": [
    "#Linear Search\n",
    "def linear_search(arr,target):\n",
    "    for i,val in enumerate(arr):\n",
    "        if val==target:\n",
    "            return i\n",
    "    return -1\n",
    "\n",
    "linear_search(a,b)    "
   ]
  },
  {
   "cell_type": "code",
   "execution_count": 21,
   "metadata": {},
   "outputs": [
    {
     "data": {
      "text/plain": [
       "-1"
      ]
     },
     "execution_count": 21,
     "metadata": {},
     "output_type": "execute_result"
    }
   ],
   "source": [
    "#Binary Search\n",
    "#Array has to be sorted\n",
    "def binary_search(arr,target):\n",
    "    low = 0\n",
    "    high = len(arr)-1\n",
    "    while low<=high:\n",
    "        mid = low+(high-low)//2\n",
    "        if arr[mid]==target:\n",
    "            return mid\n",
    "        elif target<arr[mid]:\n",
    "            high=mid-1\n",
    "        else:\n",
    "            low=mid+1\n",
    "    return -1\n",
    "binary_search(a,b)"
   ]
  },
  {
   "cell_type": "code",
   "execution_count": 19,
   "metadata": {},
   "outputs": [
    {
     "name": "stdout",
     "output_type": "stream",
     "text": [
      "3 mid\n",
      "2 hi\n",
      "1 mid\n",
      "2 lo\n",
      "2\n",
      "5\n",
      "5\n"
     ]
    }
   ],
   "source": [
    "# 2529. Maximum Count of Positive Integer and Negative Integer\n",
    "\n",
    "nums = [-3,-2,-1,0,0,1,2]\n",
    "\n",
    "lo = 0\n",
    "hi = len(nums) - 1\n",
    "\n",
    "while lo<hi:\n",
    "    mid = lo+(hi-lo)//2\n",
    "    print(mid,\"mid\")\n",
    "    if 0<=nums[mid]:\n",
    "        hi = mid-1\n",
    "        print(hi,\"hi\")\n",
    "    elif 0>=nums[mid]:\n",
    "        lo = mid + 1\n",
    "        print(lo,\"lo\")\n",
    "        \n",
    "# print(hi)\n",
    "# print(lo)\n",
    "\n",
    "neg = max(lo,hi)\n",
    "print(neg)\n",
    "pos = len(nums)-neg\n",
    "print(pos)\n",
    "print(max(pos,neg))"
   ]
  },
  {
   "cell_type": "code",
   "execution_count": 3,
   "metadata": {},
   "outputs": [
    {
     "name": "stdout",
     "output_type": "stream",
     "text": [
      "1\n",
      "153\n"
     ]
    }
   ],
   "source": [
    "n = int(input())\n",
    "for i in range(1,n+1):\n",
    "    num = i\n",
    "    sum = 0\n",
    "    while num>0:\n",
    "        sum += ((num%10)**3)\n",
    "        num//=10\n",
    "    if sum==i:\n",
    "        print(i)\n"
   ]
  },
  {
   "cell_type": "code",
   "execution_count": null,
   "metadata": {},
   "outputs": [],
   "source": [
    "lo = 0\n",
    "hi = len(nums)-1\n",
    "\n",
    "while lo<hi:\n",
    "    mid = lo  + (hi-lo)//2\n",
    "    if 0 <= nums[mid]:\n",
    "        ans = mid\n",
    "        hi = mid-1\n",
    "    elif 0 >= nums[mid]:\n",
    "        lo = mid+1\n",
    "        \n",
    "print(ans,hi)"
   ]
  }
 ],
 "metadata": {
  "kernelspec": {
   "display_name": "Python 3",
   "language": "python",
   "name": "python3"
  },
  "language_info": {
   "codemirror_mode": {
    "name": "ipython",
    "version": 3
   },
   "file_extension": ".py",
   "mimetype": "text/x-python",
   "name": "python",
   "nbconvert_exporter": "python",
   "pygments_lexer": "ipython3",
   "version": "3.10.9"
  },
  "orig_nbformat": 4,
  "vscode": {
   "interpreter": {
    "hash": "ed151676ba7cc20a52a8e3d85c1398e9c2097e3c955486c9e29439ec09d18f71"
   }
  }
 },
 "nbformat": 4,
 "nbformat_minor": 2
}
