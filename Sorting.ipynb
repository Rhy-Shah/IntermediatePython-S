{
 "cells": [
  {
   "cell_type": "code",
   "execution_count": 2,
   "metadata": {},
   "outputs": [
    {
     "name": "stdout",
     "output_type": "stream",
     "text": [
      "[1, 2, 3, 5, 6, 12, 46]\n"
     ]
    }
   ],
   "source": [
    "#Bubble Sort\n",
    "def bubble_sort(arr):\n",
    "    n = len(arr)\n",
    "    for i in range(n-1):\n",
    "        swap = False\n",
    "        for j in range(n-i-1):\n",
    "            if arr[j]>arr[j+1]:\n",
    "                arr[j],arr[j+1] = arr[j+1],arr[j]\n",
    "                swap = True\n",
    "        if swap == False:\n",
    "            break\n",
    "    return arr\n",
    "\n",
    "print(bubble_sort([3,5,1,2,46,6,12]))\n",
    "            "
   ]
  },
  {
   "cell_type": "code",
   "execution_count": 4,
   "metadata": {},
   "outputs": [
    {
     "name": "stdout",
     "output_type": "stream",
     "text": [
      "[1, 2, 3, 3, 4, 6, 12, 26, 26, 48, 63, 76, 86, 324, 423, 542]\n"
     ]
    }
   ],
   "source": [
    "#Selection Sort\n",
    "def selection_sort(arr):\n",
    "    n = len(arr)\n",
    "    for i in range(n-1):\n",
    "        min_idx = i\n",
    "        for j in range(i+1,n):\n",
    "            if arr[j] < arr[min_idx]:\n",
    "                min_idx = j\n",
    "        arr[i],arr[min_idx] = arr[min_idx],arr[i]\n",
    "    return arr\n",
    "\n",
    "print(selection_sort([3,2,1,26,48,6,324,12,423,76,3,26,4,86,542,63]))"
   ]
  },
  {
   "cell_type": "code",
   "execution_count": 5,
   "metadata": {},
   "outputs": [
    {
     "name": "stdout",
     "output_type": "stream",
     "text": [
      "[1, 1, 5, 13, 24, 32, 32, 42, 43, 56, 96, 323, 341, 445, 537, 645, 656, 878, 879, 3212]\n"
     ]
    }
   ],
   "source": [
    "def insertion_sort(arr):\n",
    "    n = len(arr)\n",
    "    for i in range(1,n):\n",
    "        min_idx = i\n",
    "        \n",
    "        while min_idx > 0 and arr[min_idx-1]>arr[min_idx]:\n",
    "            arr[min_idx-1],arr[min_idx] = arr[min_idx],arr[min_idx-1]\n",
    "            min_idx -= 1\n",
    "    return arr\n",
    "\n",
    "print(insertion_sort([13,24,537,42,341,5,32,645,96,1,323,56,879,32,3212,1,43,445,656,878]))"
   ]
  },
  {
   "cell_type": "code",
   "execution_count": 7,
   "metadata": {},
   "outputs": [
    {
     "name": "stdout",
     "output_type": "stream",
     "text": [
      "[1, 1, 4, 8, 12, 12, 12, 23, 32, 43, 56, 57, 324, 324, 677, 765, 1324, 4532, 4546, 5367]\n"
     ]
    }
   ],
   "source": [
    "def merge_sort(arr):\n",
    "    n = len(arr)\n",
    "    if n==1:\n",
    "        return arr\n",
    "    \n",
    "    mid = n//2\n",
    "    left = merge_sort(arr[:mid])\n",
    "    right = merge_sort(arr[mid:])\n",
    "    \n",
    "    def merge(arr1,arr2):\n",
    "        i = 0\n",
    "        j = 0\n",
    "        res = []\n",
    "        \n",
    "        while i<len(arr1) and j<len(arr2):\n",
    "            if arr1[i] < arr2[j]:\n",
    "                res.append(arr1[i])\n",
    "                i += 1\n",
    "            else:\n",
    "                res.append(arr2[j])\n",
    "                j += 1\n",
    "                \n",
    "        if i<len(arr1):\n",
    "            res += arr1[i:]\n",
    "        \n",
    "        if j<len(arr2):\n",
    "            res += arr2[j:]\n",
    "        \n",
    "        return res\n",
    "    \n",
    "    return merge(left,right)\n",
    "\n",
    "print(merge_sort([12,4,32,5367,23,12,324,43,56,677,324,1,12,1324,4546,57,8,765,4532,1]))"
   ]
  }
 ],
 "metadata": {
  "kernelspec": {
   "display_name": "Python 3",
   "language": "python",
   "name": "python3"
  },
  "language_info": {
   "codemirror_mode": {
    "name": "ipython",
    "version": 3
   },
   "file_extension": ".py",
   "mimetype": "text/x-python",
   "name": "python",
   "nbconvert_exporter": "python",
   "pygments_lexer": "ipython3",
   "version": "3.10.9"
  },
  "orig_nbformat": 4,
  "vscode": {
   "interpreter": {
    "hash": "ed151676ba7cc20a52a8e3d85c1398e9c2097e3c955486c9e29439ec09d18f71"
   }
  }
 },
 "nbformat": 4,
 "nbformat_minor": 2
}
